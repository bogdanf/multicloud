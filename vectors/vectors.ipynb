{
 "cells": [
  {
   "cell_type": "markdown",
   "metadata": {},
   "source": [
    "# AI Chatbot engine with Oracle Database 23ai on Google Cloud\n",
    "The main purpose of this workshop is to teach you how you can implement a **RAG (Retrieval Augmented Generation)** chatbot using vector similarity search and Generative AI / LLMs.\n",
    "\n",
    "We will guide you through the process of loading and parsing a FAQ-like text file, integrating it with an Oracle 23ai database, and employing the Google Cloud Platform to order it and run the Python glue code and Generative AI services needed for the chatbot."
   ]
  },
  {
   "cell_type": "markdown",
   "metadata": {},
   "source": [
    "## Setup the working environment in Google Cloud\n",
    "\n",
    "The prerequisites needed to run this notebook are described [here](https://github.com/WSPluta/multicloud).\n",
    "\n",
    "In a nutsehll, we need: \n",
    "- a Google Cloud tenancy\n",
    "- a working multicloud Oracle Database 23ai\n",
    "- a Linux (Ubuntu) virtual machine\n",
    "- access to Google's Gemini generative AI service"
   ]
  },
  {
   "cell_type": "markdown",
   "metadata": {},
   "source": [
    "## Setup the Python environment"
   ]
  },
  {
   "cell_type": "markdown",
   "metadata": {},
   "source": [
    "For this tutorial, we will use Visual Studio Code (VSCode) to connect to our Ubuntu VM on Google Cloud and run all the configuration steps, edit, and run our Jupyter Notebook.\n",
    "\n",
    "Please use VSCode's Remote Explorer function to connect to your remote VM. If you don't know how to do that, please see [this tutorial first](https://code.visualstudio.com/docs/remote/ssh).\n",
    "\n",
    "Next, install `pyenv` on the remote machine. This is our way to quickly and neatly manage multiple Python versions on the same machine. For this tutorial, we will use Python 3.12. If you are more comfortable with other ways to install the desired Python version on a Linux box, feel free to use it instead.\n",
    "\n",
    "Open the terminal pane in VSCode and run the following commands (for the latest version of this procedure, see [the official pyenv page here](https://github.com/pyenv/pyenv-installer)):\n",
    "\n",
    "```\n",
    "sudo apt install -y make build-essential libssl-dev zlib1g-dev libbz2-dev \\\n",
    "libreadline-dev libsqlite3-dev wget curl llvm libncurses5-dev libncursesw5-dev \\\n",
    "xz-utils tk-dev libffi-dev liblzma-dev python3-openssl git\n",
    "\n",
    "curl https://pyenv.run | bash\n",
    "\n",
    "echo 'export PYENV_ROOT=\"$HOME/.pyenv\"' >> ~/.profile\n",
    "echo 'command -v pyenv >/dev/null || export PATH=\"$PYENV_ROOT/bin:$PATH\"' >> ~/.profile\n",
    "echo 'eval \"$(pyenv init -)\"' >> ~/.profile\n",
    "\n",
    "echo 'export PYENV_ROOT=\"$HOME/.pyenv\"' >> ~/.bashrc\n",
    "echo 'command -v pyenv >/dev/null || export PATH=\"$PYENV_ROOT/bin:$PATH\"' >> ~/.bashrc\n",
    "echo 'eval \"$(pyenv init -)\"' >> ~/.bashrc\n",
    "\n",
    "exec \"$SHELL\"\n",
    "```\n",
    "\n",
    "Now it should be easy to get Python 3.12 on your machine:\n",
    "\n",
    "```\n",
    "pyenv install 3.12\n",
    "\n",
    "```\n",
    "\n",
    "Once done, create a new folder called `vectors` in your VSCode explorer window and copy this notebook and the `faq.txt` file inside it.\n",
    "\n",
    "Back in the terminal pane, `cd` to the `vectors` folder and make Python 3.12 the active kernel for it:\n",
    "\n",
    "```\n",
    "cd vectors\n",
    "pyenv local 3.12\n",
    "```\n",
    "\n",
    "Last step in this phase is installing the Python libraries for accessing the Oracle Database and sentence transformers (to convert strings to vectors):\n",
    "\n",
    "```\n",
    "pip install oracledb\n",
    "pip install sentence-transformers\n",
    "```\n",
    "\n",
    "Open the `vectors.ipynb` file (this file, really) in VSCode and continue reading while executing the code cells below."
   ]
  },
  {
   "cell_type": "markdown",
   "metadata": {},
   "source": [
    "## Generate vector embeddings\n",
    "\n",
    "This section guides you through the code required to load text files from a local folder, split them into segments, and then create embeddings and ingest them into the Oracle 23ai vector database"
   ]
  },
  {
   "cell_type": "markdown",
   "metadata": {},
   "source": [
    "### Concepts\n",
    "\n",
    "- What is a Vector?\n",
    "\n",
    "    A vector is like a fingerprint for information. Just like every person’s fingerprint is unique and gives us lots of details about them, a vector in AI is a unique set of numbers representing the important semantic features of a piece of information, like a block of text, an image, a sound, or a video.\n",
    "\n",
    "- What is Similarity Search and Outlier Search?\n",
    "\n",
    "    A similarity search helps you find semantically similar things, like Google or Bing does. But imagine being able to do that in the database, with text, audio, image, and video files and the full power of SQL and PL/SQL at your disposal. An outlier search does the opposite: it retrieves the most dissimilar results.\n",
    "\n",
    "- What is a LLM?\n",
    "\n",
    "    LLMs, or Large Language Models, are AI algorithms that use deep learning techniques and large data sets to understand, summarize, generate, and predict new content. Oracle AI Vector Search works well with any Large Language Model [LLM] and vector embedding model.\n",
    "\n",
    "- What is RAG?\n",
    "\n",
    "    Retrieval Augmented Generation (RAG) is a technique that enhances LLMs by integrating Similarity Search. This enables use cases such as a corporate chatbot responding with private company knowledge to make sure it’s giving answers that are up-to-date and tailored to your business."
   ]
  },
  {
   "cell_type": "markdown",
   "metadata": {},
   "source": [
    "### Task 1: Loading the text sources from a file.\n",
    "\n",
    "Let's work with our source files, which contain the knowledge we want to use as the foundation for our chatbot's responses.\n",
    "FAQs are loaded from a file, encoded, and stored. For this example, we will use a properly formatted plain text FAQ, following the pattern:\n",
    "\n",
    "```\n",
    "What is Oracle Cloud Free Tier?\n",
    "\n",
    "Oracle Cloud Free Tier allows you to sign up for an Oracle Cloud account which provides a number of Always Free services and a Free Trial with US$300 of free credit to use on all eligible Oracle Cloud Infrastructure services for up to 30 days. The Always Free services are available for an unlimited period of time. The Free Trial services may be used until your US$300 of free credits are consumed or the 30 days has expired, whichever comes first.\n",
    "\n",
    "=====\n",
    "\n",
    "Who should use Oracle Cloud Free Tier?\n",
    "\n",
    "Oracle Cloud Free Tier services are for everyone. Whether you’re a developer building and testing applications, a startup founder creating new systems with the intention of scaling later, an enterprise looking to test things before moving to cloud, a student wanting to learn, or an academic developing curriculum in the cloud, Oracle Cloud Free Tier enables you to learn, explore, build and test for free.\n",
    "\n",
    "=====\n",
    "\n",
    "Why do I need to provide credit or debit card information when I sign up for Oracle Cloud Free Tier?\n",
    "\n",
    "To provide free Oracle Cloud accounts to our valued customers, we need to ensure that you are who you say you are. We use your contact information and credit/debit card information for account setup and identity verification. Oracle may periodically check the validity of your card, resulting in a temporary “authorization” hold. These holds are removed by your bank, typically within three to five days, and do not result in actual charges to your account.\n",
    "\n",
    "=====\n",
    "\n",
    "```\n",
    "So, we have the question, an empty line, the answer, and then a separator denoted by =====. For this simple example, we load the whole thing into memory. For a small FAQ file, there is no need for a proper vector database; however, if your knowledge base grows, you will want one."
   ]
  },
  {
   "cell_type": "markdown",
   "metadata": {},
   "source": [
    "The function below will open all the .txt files in a specified folder, read them, split the content using the ======== separator. It will then put all the resulting chunks in an array.\n",
    "\n",
    "The array is stored inside a dictionary with the file name used as the key. This will be useful later if many other FAQ files are available inside the folder, helping to differentiate between the sources."
   ]
  },
  {
   "cell_type": "code",
   "execution_count": 1,
   "metadata": {},
   "outputs": [],
   "source": [
    "import os\n",
    "\n",
    "def loadFAQs(directory_path):\n",
    "   faqs = {}\n",
    "\n",
    "   for filename in os.listdir(directory_path):\n",
    "      if filename.endswith(\".txt\"):  # assuming FAQs are in .txt files\n",
    "         file_path = os.path.join(directory_path, filename)\n",
    "\n",
    "         with open(file_path) as f:\n",
    "            raw_faq = f.read()\n",
    "\n",
    "         filename_without_ext = os.path.splitext(filename)[0]  # remove .txt extension\n",
    "         faqs[filename_without_ext] = [text.strip() for text in raw_faq.split('=====')]\n",
    "\n",
    "   return faqs"
   ]
  },
  {
   "cell_type": "code",
   "execution_count": 2,
   "metadata": {},
   "outputs": [
    {
     "data": {
      "text/plain": [
       "{'faq': ['Who are you and what can you do?\\n\\nI am DORA, the Digital ORacle Assistant, a digital assistant working for Oracle EMEA. I can answer questions about Oracle Cloud (OCI) and especially about the Free Trial and Always Free programs.',\n",
       "  'What is Oracle Cloud Free Tier?\\n\\nOracle Cloud Free Tier allows you to sign up for an Oracle Cloud account which provides a number of Always Free services and a Free Trial with US$300 of free credit to use on all eligible Oracle Cloud Infrastructure services for up to 30 days. The Always Free services are available for an unlimited period of time. The Free Trial services may be used until your US$300 of free credits are consumed or the 30 days has expired, whichever comes first.',\n",
       "  'Who should use Oracle Cloud Free Tier?\\n\\nOracle Cloud Free Tier services are for everyone. Whether you’re a developer building and testing applications, a startup founder creating new systems with the intention of scaling later, an enterprise looking to test things before moving to cloud, a student wanting to learn, or an academic developing curriculum in the cloud, Oracle Cloud Free Tier enables you to learn, explore, build and test for free.',\n",
       "  'Who is eligible for Oracle Cloud Free Tier?\\n\\nOne Oracle Cloud Free Trial or Always Free account is permitted per person. Please note:\\n\\nCreating or attempting to create multiple free accounts is prohibited.\\nAll contact and billing information provided must be accurate, valid, and used with consent for the duration of the account.\\nFailure to comply with these requirements may result in the suspension or termination of your account.',\n",
       "  'Why do I need to provide credit or debit card information when I sign up for Oracle Cloud Free Tier?\\n\\nTo provide free Oracle Cloud accounts to our valued customers, we need to ensure that you are who you say you are. We use your contact information and credit/debit card information for account setup and identity verification. Oracle may periodically check the validity of your card, resulting in a temporary “authorization” hold. These holds are removed by your bank, typically within three to five days, and do not result in actual charges to your account.',\n",
       "  'What payment methods does Oracle accept?\\n\\nWe accept credit cards and debit cards that function like credit cards. We do not accept debit cards with a PIN or virtual, single-use, or prepaid cards.',\n",
       "  'Is Oracle Cloud Free Tier available in all countries?\\n\\nOracle Cloud Free Tier is currently available in all regions where commercial Oracle Cloud Infrastructure service is available. See the data regions page for detailed service availability. * If your first-choice data region isn’t available, please select an adjacent region. If you are unable to find the country or territory you require, please contact Oracle Sales or Cloud Support using the Chat link in the menu bar. The Oracle Sales team can help you sign up for Oracle Cloud Free Tier.',\n",
       "  'How do I sign up for Oracle Cloud Free Tier?\\n\\nYou can sign up on the Oracle Cloud Free Tier sign up page.',\n",
       "  'How do I get help if I have problems signing up or signing in?\\n\\nContact the Oracle Cloud support team using the Chat link in the menu bar.',\n",
       "  'Does Oracle Cloud Free Tier include service level agreements (SLAs) and technical support?\\n\\nOracle Cloud Free Tier does not include SLAs. Community support through our forums is available to all customers. Customers using only Always Free resources are not eligible for Oracle Support. Limited support is available for Oracle Cloud Free Tier with Free Trial credits. After you use all of your credits or after your trial period ends (whichever comes first), you must upgrade to a paid account to access Oracle Support. If you choose not to upgrade and continue to use Always Free Services, you will not be eligible to raise a service request in My Oracle Support.',\n",
       "  'What are Always Free services?\\n\\nAlways Free services are part of Oracle Cloud Free Tier. Always Free services are available for an unlimited time. Some limitations apply. As new Always Free services become available, you will automatically be able to use those as well.\\n\\nThe following services are available as Always Free:\\n\\nAMD-based Compute\\nArm-based Ampere A1 Compute\\nBlock Volume\\nObject Storage\\nArchive Storage\\nFlexible Load Balancer\\nFlexible Network Load Balancer\\nVPN Connect\\nAutonomous Data Warehouse\\nAutonomous Transaction Processing\\nAutonomous JSON Database\\nNoSQL Database (Phoenix Region only)\\nAPEX Application Development\\nResource Manager (Terraform)\\nMonitoring\\nNotifications\\nLogging\\nApplication Performance Monitoring\\nService Connector Hub\\nVault\\nBastions\\nSecurity Advisor\\nVirtual Cloud Networks\\nSite-to-Site VPN\\nContent Management Starter Edition\\nEmail Delivery',\n",
       "  'What can I do with Always Free Oracle Autonomous Database?\\n\\nWith Oracle Autonomous Database now always free, developers can access a full database experience and built-in development tools for free—without worrying about losing work at the end of a trial period. Autonomous Database is a multimodel database for virtually any type of data (including relational, JSON, spatial, graph, multimedia, XML, files, and more), any workload (transactional, data warehouse, and analytics), and any interface (full SQL, REST data access, and language drivers). The service includes free development tools such as SQL Developer IDE, Oracle Application Express (APEX) for low-code app creation, Oracle REST Data Services, and powerful command-line utilities. To keep building even when you are disconnected from Oracle Cloud, you can mix Always Free Oracle Autonomous Database with a compatible always-free version of Oracle Database that runs on your laptop (see Oracle Database XE).',\n",
       "  'What can I do with Always Free Oracle Cloud Infrastructure?\\n\\nWith Always Free Oracle Cloud Infrastructure services, you get the essentials you need to build and test applications in the cloud. This includes two compute instances, NVMe SSD-powered block storage, high-bandwidtou’ll be notified by email when billing begins.h object storage, archive storage, and load balancing, all on our enterprise-grade virtual networks. These resources enable you to prototype two-tier high availability applications, test server cloning and other advanced storage features, or build basic data pipelines with object storage, as just a few examples. Coupling with Always Free Autonomous Database or our Free Tier gives you even more options. Our cloud infrastructure includes rich APIs, SDKs for Java, Python, Ruby, and Go, and cool plug-ins for Jenkins, Packer, and Grafana. And you can automate it all with Terraform.',\n",
       "  'I need more instances or larger sizes of Always Free services. What should I do?\\n\\nIf your cloud account is in Free Trial period or has paid status, you can directly upgrade an Always Free resource to a paid resource to get more processing power, data storage, and network bandwidth. If your account has finished Free Trial without upgrading to paid status, you can continue using Always Free resources but you cannot upgrade Always Free resources to paid resources until the account is first upgraded to paid status.\\n\\nYou may upgrade an account to paid status at any time from the Account Management area in Oracle Cloud Console. You will be able to choose between Pay As You Go or Monthly Flex plans. Alternatively, you may contact Oracle Sales for assistance. See cloud cost estimator for details.\\n\\nIn addition, you may spend free credits during a Free Trial period to create more instances or larger instances than allowed for Always Free. Note that paid instances created during a trial period will be reclaimed when the Free Trial ends, whereas Always Free resources will continue to be available even after the Free Trial period.',\n",
       "  'I just signed up and I can’t access specific services. What can I do?\\n\\nRegistering your account with all services and regions can take a few minutes. Check again after a few minutes have passed.',\n",
       "  'How do I change which resources I want to designate as Always Free?\\n\\nIn short, you can’t. Eligible resources are designated Always Free when they are created. After you provision an Always Free resource, the Always Free status is not transferable to another resource. However, you can delete an existing Always Free resource in order to create a new Always Free resource in its place.',\n",
       "  'My resources no longer appear. How can I restore them?\\n\\nIf you have a Free Tier account and your resources no longer appear, it’s likely that your Free Trial has expired and your paid resources have been reclaimed (terminated). You can verify if this is the case by doing the following: \\nLog in to the Console\\nCheck for a banner at the top of the Console with the following text: “You are using a Free Tier account. To access all services and resources, upgrade to a paid account.”\\n\\nIf you see this message, your resources have been reclaimed and can’t be restored.',\n",
       "  'I get an “out of host capacity” error when I try to create an Always Free Compute instance. What can I do?\\n\\nAn \"out of host capacity\" error indicates a temporary lack of Always Free shapes in your home region. Oracle is working to provide more capacity, though it might take several days before additional capacity is available in your home region. If your home region has multiple availability domains, try creating the instance in a different availability domain. If that doesn’t work, wait a while, and then try to launch the instance again.',\n",
       "  'Is my Free Tier account eligible for support?\\n\\nCommunity support through our forums is available to all customers. Customers using only Always Free resources are not eligible for Oracle Support. Limited support is available to Free Tier accounts with Free Trial credits. After you use all of your credits or after your trial period ends (whichever comes first), you must upgrade to a paid account to access Oracle Support. If you choose not to upgrade and continue to use Always Free Services, you will not be eligible to raise a service request in My Oracle Support. See Getting Help and Contacting Support.',\n",
       "  'Are Always Free services available for paid accounts?\\n\\nYes, for paid accounts using universal credit pricing.',\n",
       "  'What is Free Trial?\\n\\nFree Trial is part of Oracle Cloud Free Tier and provides US$300 of free credits to use on all eligible Oracle Cloud Infrastructure services for up to 30 days. The Free Trial period may end either because all free credits are spent or 30 days has been reached.',\n",
       "  'For how long can I use my Free Trial credits?\\n\\nYou must use all your Free Trial credits within 30 days of signing up for Oracle Cloud Free Tier. Any credits that are unused at the end of the 30-day period will automatically expire. The Always Free services will continue to be available for unlimited time as long as you use the services.',\n",
       "  \"Is it possible to extend my Free Trial?\\n\\nIf you need additional credits or time, you can schedule a call with an Oracle sales representative using the Upgrade page in the Console. Sales representatives have the authority to extend trials or issue additional credits if appropriate.\\n\\nIf you don't see an Upgrade link on the Console page you’re viewing, you can click the Oracle Cloud logo at the top of the Console and then look for the Upgrade link in the sidebar on the right side of the page.\",\n",
       "  \"What happens when my Free Trial expires or my credits are used up?\\n\\nWhen you've reached the end of your 30-day trial or used all your Free Trial credits (whichever comes first), you’ll be notified and will have a grace period of 30 days, starting from the expiration date, to upgrade to paid. You will no longer be able to create new paid resources, but your account will remain active. Your resources will continue to exist for a few days, allowing you to upgrade your account and keep your resources before they're reclaimed by Oracle. If you do not upgrade to paid by the end of the grace period, your Free Trial service instances and data will be deleted. (Note that reclaimed resources can’t be recovered—they are permanently deleted.)\\n\\nResources identified as Always Free will not be reclaimed. After your Free Trial expires, you'll continue to be able to use and manage your existing Always Free resources, and can create new Always Free resources according to tenancy limits.\\n\\nHowever, if you have more Ampere A1 Compute instances provisioned than are available for an Always Free tenancy, all existing Ampere A1 instances are disabled and then deleted after 30 days, unless you upgrade to a paid account. To continue using your existing Arm-based instances as an Always Free user, before your trial ends, ensure that your total use of OCPUs and memory across all the Ampere A1 Compute instances in your tenancy is within the Always Free limit.\",\n",
       "  \"If I upgrade, do I keep my Free Trial credit balance?\\n\\nYes, if you upgrade during the Free Trial period, you won’t be billed until you've reached the end of your 30-day trial or used all of your Free Trial credits (whichever comes first). You’ll be notified by email when billing begins.\",\n",
       "  'After I upgrade my account, can I downgrade?\\n\\nThere is no option to downgrade your account. However, with a paid account, you’ll continue to have access to Always Free resources, and you’ll only pay for the standard resources you use. No minimums and no prepayment are required for your paid account.',\n",
       "  'How do I recover my data once the 30-day Free Trial comes to an end?\\n\\nYou are responsible for exporting and importing all of your data manually or using tools supported by the object storage.',\n",
       "  'What is Oracle Cloud Promotion?\\n\\nOracle Cloud Promotion is another term for Free Trial.',\n",
       "  'How do I convert my Oracle Cloud Free Tier account to a paid account?\\n\\nYou can upgrade your cloud account to paid at any time. Simply go to Account Management in the Oracle Cloud Console and complete the upgrade steps.',\n",
       "  'Is my credit usage rate discounted during Free Trial?\\n\\nYes, during the Free Trial period of 30 days, your usage rates are discounted. This will let you gain free, hands-on experience with the wide range of Oracle Cloud services.',\n",
       "  'What are the discounted rates?\\n\\nDuring the 30-day Free Trial period, you will consume your trial credits at the deeply discounted Oracle IaaS rates for all platform services including Oracle Database Cloud, Java Cloud Service (WebLogic), and other services, as compared to a regular OCI Rate Card',\n",
       "  'How do I terminate my Free Tier account?\\n\\nPlease refer to the documentation section on deleting a Free Tier Tenancy and Cloud Account for details on account termination.',\n",
       "  'Free Tier is currently available in all regions where commercial Oracle Cloud Infrastructure service is available. See the data regions page for detailed service availability. The US$300 free credit is available in select countries and valid for up to 30 days. Oracle Cloud credits are consumed at discounted rates during the 30-day promotional period. The capacity limits listed under each service are only estimates and reflect the maximum capacity you can get if you consume your entire credit on one service during the promotional period. The maximum capacity per service you get can be less if you consume multiple services. The list of services and capacity estimates are subject to change. Your credit balance is available to you in the Oracle Cloud Infrastructure Console.',\n",
       "  '1 OCPU on x86 CPU Architecture (AMD and Intel) = 2 vCPUs; 1 OCPU on Arm CPU Architecture (Ampere) = 1 vCPU',\n",
       "  'Availability to Free Tier is subject to capacity limits.',\n",
       "  'What is Oracle Cloud Infrastructure Compute?\\n\\nOracle Cloud Infrastructure Compute allows you to provision and manage compute hosts, known as instances, to meet your compute and application requirements.',\n",
       "  'What can you do with Oracle Cloud Infrastructure Compute instances?\\n\\nYou can access instances securely, restart them, attach and detach volumes, and terminate them when no longer needed. Local drive changes are lost upon termination, but saved volume changes are retained.',\n",
       "  'What types of instances are available in Oracle Cloud Infrastructure?\\n\\nOracle Cloud Infrastructure offers both bare metal and virtual machine instances.',\n",
       "  'What is the advantage of using a bare metal compute instance?\\n\\nBare metal instances provide dedicated physical server access for highest performance and strong isolation.',\n",
       "  'What is a virtual machine (VM) instance in Oracle Cloud Infrastructure?\\n\\nA virtual machine (VM) is an independent computing environment running on top of physical bare metal hardware, allowing isolation and the ability to run multiple VMs.',\n",
       "  'How do Oracle Cloud Infrastructure VM compute instances compare to bare metal instances?\\n\\nVM compute instances run on the same hardware as bare metal instances, leveraging the same cloud-optimized hardware, firmware, software stack, and networking infrastructure.',\n",
       "  'Where can I find more information about the Compute service and related services?\\n\\nYou can learn more about the Compute service and related services in the provided link.',\n",
       "  'What should I review when working with Compute instances in Oracle Cloud Infrastructure?\\n\\nYou should review the \"Best Practices for Your Compute Instances\" for important information about working with your Compute instances.',\n",
       "  'How can Linux instances on Oracle Cloud Infrastructure apply critical kernel patches without rebooting?\\n\\nLinux instances can use Oracle Ksplice to apply critical kernel patches without rebooting. It works for Oracle Linux, CentOS, and Ubuntu.',\n",
       "  'Is Compute Always Free eligible in Oracle Cloud Infrastructure?\\n\\nYes, Compute is Always Free eligible. You can find more information about Always Free resources in the provided link, including capabilities and limitations.',\n",
       "  'What factors should you consider when creating a compute instance in Oracle Cloud Infrastructure?\\n\\nWhen creating a compute instance, consider factors like the number of CPUs, amount of memory, and network resources to select the most appropriate instance type for your applications.',\n",
       "  'What are burstable instances in Oracle Cloud Infrastructure?\\n\\nBurstable instances are virtual machine (VM) instances that provide a baseline level of CPU performance with the ability to burst to a higher level for occasional spikes in usage.',\n",
       "  'What do shielded instances do in Oracle Cloud Infrastructure?\\n\\nShielded instances harden the firmware security on bare metal hosts and VMs to defend against malicious boot-level software.',\n",
       "  'What are extended memory VM instances in Oracle Cloud Infrastructure?\\n\\nExtended memory VM instances provide more memory and cores than standard shapes, catering to workloads that require extra resources.',\n",
       "  'What types of shape categories are offered by Oracle Cloud Infrastructure?\\n\\nOracle Cloud Infrastructure offers standard shapes, DenseIO shapes, GPU shapes, and high-performance computing (HPC) and optimized shapes.',\n",
       "  'What are standard shapes in Oracle Cloud Infrastructure used for?\\n\\nStandard shapes are designed for general-purpose workloads and are suitable for a wide range of applications, offering a balance of cores, memory, and network resources.',\n",
       "  'What are DenseIO shapes in Oracle Cloud Infrastructure used for?\\n\\nDenseIO shapes are designed for large databases, big data workloads, and applications requiring high-performance local storage with locally-attached NVMe-based SSDs.',\n",
       "  'What are GPU shapes in Oracle Cloud Infrastructure designed for?\\n\\nGPU shapes are designed for hardware-accelerated workloads, with Intel or AMD CPUs and NVIDIA graphics processors. Some bare metal GPU shapes support cluster networking.',\n",
       "  'What are HPC and optimized shapes in Oracle Cloud Infrastructure for?\\n\\nHPC and optimized shapes are designed for high-performance computing workloads that require high-frequency processor cores, and they support cluster networking.',\n",
       "  'Where can I find more information about the available shapes in Oracle Cloud Infrastructure?\\n\\nYou can find more information about the available bare metal and VM shapes in the provided links.',\n",
       "  'How do you provision and manage compute hosts in Oracle Cloud Infrastructure?\\n\\nYou can provision and manage compute hosts using Oracle Cloud Infrastructure Compute.',\n",
       "  'What happens to local drive changes when you terminate an instance in Oracle Cloud Infrastructure?\\n\\nLocal drive changes are lost when you terminate an instance.',\n",
       "  'What is the primary benefit of using bare metal compute instances in Oracle Cloud Infrastructure?\\n\\nBare metal compute instances provide dedicated physical server access for the highest performance and strong isolation.',\n",
       "  'What is the purpose of a virtual machine (VM) instance in Oracle Cloud Infrastructure?\\n\\nA VM instance is an independent computing environment that runs on top of physical bare metal hardware, allowing isolation and the ability to run multiple VMs.',\n",
       "  'Where can I find additional information about the Compute service and related services in Oracle Cloud Infrastructure?\\n\\nYou can find more information about the Compute service and related services by following the provided link.',\n",
       "  'What important information should you review when working with Compute instances in Oracle Cloud Infrastructure?\\n\\nIt is essential to review the \"Best Practices for Your Compute Instances\" for important guidance on working with your Compute instances.',\n",
       "  'How can you apply critical kernel patches to Linux instances in Oracle Cloud Infrastructure without rebooting?\\n\\nYou can use Oracle Ksplice to apply critical kernel patches to Linux instances without the need for a reboot. This works for Oracle Linux, CentOS, and Ubuntu.',\n",
       "  \"Is Compute part of Oracle Cloud Infrastructure's Always Free resources?\\n\\nYes, Compute is Always Free eligible. You can find more details, including capabilities and limitations, in the provided link.\",\n",
       "  'What considerations should you take into account when selecting an instance type for your applications in Oracle Cloud Infrastructure?\\n\\nWhen creating a compute instance, you should consider factors like the number of CPUs, amount of memory, and network resources to choose the most suitable instance type for your applications.',\n",
       "  'What are burstable instances, and how do they function in Oracle Cloud Infrastructure?\\n\\nBurstable instances in Oracle Cloud Infrastructure are virtual machine (VM) instances that provide a baseline level of CPU performance but can burst to a higher level to support occasional spikes in usage.',\n",
       "  'What is the purpose of shielded instances in Oracle Cloud Infrastructure?\\n\\nShielded instances in Oracle Cloud Infrastructure enhance the firmware security on both bare metal hosts and VMs to defend against malicious boot-level software.',\n",
       "  'What distinguishes extended memory VM instances in Oracle Cloud Infrastructure from standard shapes?\\n\\nExtended memory VM instances offer more memory and cores than standard shapes, making them ideal for workloads that require additional resources.',\n",
       "  'What categories of shapes are available in Oracle Cloud Infrastructure to meet different compute and application requirements?\\n\\nOracle Cloud Infrastructure provides various shape categories, including standard shapes, DenseIO shapes, GPU shapes, and high-performance computing (HPC) and optimized shapes.',\n",
       "  'When would you choose DenseIO shapes for your workloads in Oracle Cloud Infrastructure?\\n\\nDenseIO shapes are suitable for large databases, big data workloads, and applications that require high-performance local storage with locally-attached NVMe-based SSDs.',\n",
       "  'What are GPU shapes typically used for in Oracle Cloud Infrastructure?\\n\\nGPU shapes in Oracle Cloud Infrastructure are designed for hardware-accelerated workloads and include Intel or AMD CPUs and NVIDIA graphics processors. Some bare metal GPU shapes support cluster networking.',\n",
       "  'In which scenarios are HPC and optimized shapes in Oracle Cloud Infrastructure beneficial?\\n\\nHPC and optimized shapes are designed for high-performance computing workloads that require high-frequency processor cores and are suitable for applications that need cluster networking.',\n",
       "  'Where can I access more detailed information about the available shapes in Oracle Cloud Infrastructure?\\n\\nYou can find more detailed information about the available bare metal and VM shapes in the provided links.',\n",
       "  'How does Oracle Cloud Infrastructure Compute pricing work?\\n\\nOracle Cloud Infrastructure Compute pricing is based on the resources you consume, including instances, storage, and networking. It varies depending on the instance type and usage.',\n",
       "  \"Can you resize a compute instance in Oracle Cloud Infrastructure after it's been created?\\n\\nYes, you can resize a compute instance in Oracle Cloud Infrastructure to change its shape and allocate more or fewer resources as needed.\",\n",
       "  'What is the process of attaching a volume to a compute instance in Oracle Cloud Infrastructure?\\n\\nTo attach a volume to a compute instance, you can use the Oracle Cloud Infrastructure Console, the command line interface, or the API to specify the instance and the volume to attach.',\n",
       "  'How do you detach a volume from a compute instance in Oracle Cloud Infrastructure?\\n\\nTo detach a volume from a compute instance, you can use the Oracle Cloud Infrastructure Console, the command line interface, or the API to specify the instance and the volume to detach.',\n",
       "  \"What is the purpose of creating a snapshot of a volume in Oracle Cloud Infrastructure?\\n\\nCreating a snapshot of a volume in Oracle Cloud Infrastructure allows you to capture a point-in-time copy of the volume's data for backup or cloning purposes.\",\n",
       "  'Can you access compute instances in Oracle Cloud Infrastructure from a remote location?\\n\\nYes, you can access compute instances in Oracle Cloud Infrastructure securely from a remote location using SSH or RDP, depending on the operating system.',\n",
       "  'How can you restart a compute instance in Oracle Cloud Infrastructure?\\n\\nYou can restart a compute instance in Oracle Cloud Infrastructure using the Oracle Cloud Infrastructure Console, the command line interface, or the API.',\n",
       "  'What happens to local drives when you restart a compute instance in Oracle Cloud Infrastructure?\\n\\nLocal drive contents remain intact when you restart a compute instance in Oracle Cloud Infrastructure.',\n",
       "  'How does Oracle Cloud Infrastructure handle saved changes to volumes attached to a compute instance when it is terminated?\\n\\nOracle Cloud Infrastructure retains saved changes to volumes attached to a compute instance even when the instance is terminated.',\n",
       "  'What is the purpose of Oracle Cloud Infrastructure Always Free resources?\\n\\nOracle Cloud Infrastructure Always Free resources provide a way to use certain services and resources in the cloud for free, with limitations on usage.',\n",
       "  'Are there any limitations to using Oracle Cloud Infrastructure Always Free resources?\\n\\nYes, Always Free resources in Oracle Cloud Infrastructure have usage limitations and are subject to specific terms and conditions.',\n",
       "  'What considerations should be taken into account when selecting the appropriate instance type for an application in Oracle Cloud Infrastructure?\\n\\nFactors such as CPU count, memory size, and network resources should be considered when choosing the right instance type for an application in Oracle Cloud Infrastructure.',\n",
       "  'How do burstable instances differ from standard instances in Oracle Cloud Infrastructure?\\n\\nBurstable instances provide a baseline level of CPU performance but can burst to a higher level for brief periods, whereas standard instances offer consistent CPU performance.',\n",
       "  'What are the characteristics of shielded instances in Oracle Cloud Infrastructure?\\n\\nShielded instances have enhanced firmware security on both bare metal hosts and VMs to protect against malicious boot-level software.',\n",
       "  'When is it beneficial to use extended memory VM instances in Oracle Cloud Infrastructure?\\n\\nExtended memory VM instances are useful for workloads that require more memory and cores than what is available with standard shapes.',\n",
       "  'Can you run multiple VMs on the same hardware with Oracle Cloud Infrastructure VM compute instances?\\n\\nYes, Oracle Cloud Infrastructure VM compute instances allow you to run multiple VMs on the same physical hardware, providing isolation.',\n",
       "  'What are the main differences between Intel and AMD processors in Oracle Cloud Infrastructure GPU shapes?\\n\\nGPU shapes in Oracle Cloud Infrastructure come with either Intel or AMD CPUs and NVIDIA graphics processors, but the primary difference lies in the CPU manufacturer.',\n",
       "  'What is cluster networking, and which Oracle Cloud Infrastructure shapes support it?\\n\\nCluster networking allows high-performance networking between instances. Some bare metal GPU shapes in Oracle Cloud Infrastructure support cluster networking.',\n",
       "  'What advantages do standard shapes offer for general-purpose workloads in Oracle Cloud Infrastructure?\\n\\nStandard shapes provide a balanced combination of cores, memory, and network resources, making them suitable for a wide range of applications.',\n",
       "  'How can DenseIO shapes benefit workloads that require high-performance local storage?\\n\\nDenseIO shapes in Oracle Cloud Infrastructure are equipped with locally-attached NVMe-based SSDs, making them ideal for workloads demanding high-performance local storage.',\n",
       "  'What types of workloads benefit from Oracle Cloud Infrastructure GPU shapes?\\n\\nOracle Cloud Infrastructure GPU shapes are designed for hardware-accelerated workloads, including those that require GPU acceleration for specific tasks.',\n",
       "  'What is the key advantage of HPC and optimized shapes in Oracle Cloud Infrastructure?\\n\\nHPC and optimized shapes offer high-frequency processor cores, making them suitable for high-performance computing workloads.',\n",
       "  'How does Oracle Cloud Infrastructure charge for compute instances?\\n\\nOracle Cloud Infrastructure charges for compute instances based on factors like the instance type, storage usage, and network data transfer.',\n",
       "  'Can you modify the configuration of a running compute instance in Oracle Cloud Infrastructure?\\n\\nYes, you can modify the configuration of a running compute instance in Oracle Cloud Infrastructure, including resizing the instance.',\n",
       "  'What is the Oracle Cloud Infrastructure Console, and how can it be used to manage compute instances?\\n\\nThe Oracle Cloud Infrastructure Console is a web-based interface that allows you to manage compute instances, create and modify resources, and monitor your cloud environment.',\n",
       "  'Is there a command line interface available for managing compute instances in Oracle Cloud Infrastructure?\\n\\nYes, Oracle Cloud Infrastructure provides a command line interface (CLI) that you can use to manage compute instances, volumes, and other resources.',\n",
       "  'What is the API, and how is it used to interact with Oracle Cloud Infrastructure Compute services?\\n\\nThe API (Application Programming Interface) allows developers to interact with Oracle Cloud Infrastructure Compute services programmatically, enabling automation and integration with other applications.',\n",
       "  'What is the purpose of an instance shape in Oracle Cloud Infrastructure?\\n\\nAn instance shape in Oracle Cloud Infrastructure defines the number of CPUs, amount of memory, and network resources allocated to a compute instance.',\n",
       "  'Can you change the shape of a running compute instance in Oracle Cloud Infrastructure?\\n\\nYes, you can change the shape of a running compute instance in Oracle Cloud Infrastructure by resizing it to a different instance shape.',\n",
       "  'How can you allocate more resources to a compute instance in Oracle Cloud Infrastructure?\\n\\nYou can allocate more resources to a compute instance by resizing it to a larger instance shape that offers more CPUs, memory, and network resources.',\n",
       "  'What is the recommended practice for backing up data in Oracle Cloud Infrastructure?\\n\\nThe recommended practice for backing up data in Oracle Cloud Infrastructure is to create snapshots of volumes to capture point-in-time copies of data.',\n",
       "  \"What is the purpose of SSH in Oracle Cloud Infrastructure, and how is it used for secure access?\\n\\nSSH (Secure Shell) is used for secure remote access to compute instances in Oracle Cloud Infrastructure, allowing secure communication between the user's computer and the instance.\",\n",
       "  \"How do you use RDP to access Windows-based compute instances in Oracle Cloud Infrastructure?\\n\\nRemote Desktop Protocol (RDP) is used to access Windows-based compute instances in Oracle Cloud Infrastructure, enabling remote graphical access to the instance's desktop.\",\n",
       "  'What are the options for securely accessing Linux-based compute instances in Oracle Cloud Infrastructure?\\n\\nSecure access to Linux-based compute instances in Oracle Cloud Infrastructure can be achieved using SSH, which provides secure command-line access.',\n",
       "  'What are the primary security considerations when accessing compute instances in Oracle Cloud Infrastructure?\\n\\nSecurity considerations when accessing compute instances in Oracle Cloud Infrastructure include proper authentication, secure access methods, and the use of security groups and firewalls to control network traffic.',\n",
       "  'What is the Oracle Cloud Infrastructure Marketplace, and how does it relate to compute instances?\\n\\nThe Oracle Cloud Infrastructure Marketplace is a platform that offers a wide range of pre-configured software and solutions that can be easily deployed on compute instances.',\n",
       "  'How can you deploy applications and services on compute instances in Oracle Cloud Infrastructure?\\n\\nYou can deploy applications and services on compute instances in Oracle Cloud Infrastructure by configuring the instance with the required software, libraries, and configurations.',\n",
       "  'What is the significance of using Oracle Ksplice for critical kernel patches in Oracle Cloud Infrastructure?\\n\\nOracle Ksplice allows critical kernel patches to be applied to Linux instances without the need to reboot, ensuring continuous availability and reducing downtime.',\n",
       "  'How do extended memory VM instances differ from standard VM instances in Oracle Cloud Infrastructure?\\n\\nExtended memory VM instances provide more memory and cores than standard VM instances, making them suitable for memory-intensive workloads.',\n",
       "  'What types of workloads benefit from using Oracle Cloud Infrastructure standard shapes?\\n\\nOracle Cloud Infrastructure standard shapes are versatile and can accommodate a wide range of general-purpose workloads, including web applications, databases, and development environments.',\n",
       "  'What is the advantage of using DenseIO shapes in Oracle Cloud Infrastructure for workloads?\\n\\nDenseIO shapes are ideal for workloads that require high-performance local storage, such as large databases, big data analytics, and applications that depend on low-latency storage.',\n",
       "  'How can GPU shapes in Oracle Cloud Infrastructure accelerate workloads?\\n\\nGPU shapes in Oracle Cloud Infrastructure come with graphics processors that accelerate workloads like machine learning, rendering, and video processing by offloading computation to the GPU.',\n",
       "  'In which situations would you use HPC and optimized shapes in Oracle Cloud Infrastructure?\\n\\nHPC and optimized shapes are designed for high-performance computing workloads, including scientific simulations, modeling, and rendering tasks that require maximum processing power.',\n",
       "  'What is cluster networking, and why is it important for certain workloads in Oracle Cloud Infrastructure?\\n\\nCluster networking allows instances to communicate efficiently with each other over a high-speed, low-latency network, making it crucial for workloads requiring coordinated parallel processing.',\n",
       "  'How do Intel-based and AMD-based GPU shapes in Oracle Cloud Infrastructure differ in terms of performance?\\n\\nIntel-based and AMD-based GPU shapes may offer different performance levels, and the choice between them depends on the specific requirements of your workload.',\n",
       "  'What is the primary benefit of Oracle Cloud Infrastructure Compute Shapes?\\n\\nOracle Cloud Infrastructure Compute Shapes offer a wide range of options to match your specific workload requirements, from general-purpose to high-performance computing.',\n",
       "  'How does Oracle Cloud Infrastructure charge for storage usage in compute instances?\\n\\nOracle Cloud Infrastructure charges for storage usage based on the amount of storage attached to your compute instances, with pricing varying depending on the type and volume of storage.',\n",
       "  'Can you change the shape of a compute instance while it is running in Oracle Cloud Infrastructure?\\n\\nYes, you can change the shape of a running compute instance in Oracle Cloud Infrastructure to allocate more or fewer resources as needed.',\n",
       "  'What is the Oracle Cloud Infrastructure Compute API, and how can it be used?\\n\\nThe Oracle Cloud Infrastructure Compute API allows developers to programmatically manage and interact with compute instances, including creating, modifying, and terminating instances.',\n",
       "  'What options are available for monitoring and managing compute instances in Oracle Cloud Infrastructure?\\n\\nYou can use the Oracle Cloud Infrastructure Console, the command line interface (CLI), and the API for monitoring and managing compute instances.',\n",
       "  'How can you automate the management of compute instances in Oracle Cloud Infrastructure?\\n\\nYou can automate the management of compute instances by using scripts and tools that interact with the Oracle Cloud Infrastructure API, allowing for programmatic control and automation.',\n",
       "  \"What is the primary purpose of a snapshot in Oracle Cloud Infrastructure?\\n\\nA snapshot in Oracle Cloud Infrastructure is used to capture a point-in-time copy of a volume's data, providing a backup or cloning mechanism.\",\n",
       "  'Can you modify the configuration of a compute instance in Oracle Cloud Infrastructure while it is running?\\n\\nYes, you can modify the configuration of a running compute instance in Oracle Cloud Infrastructure, including resizing the instance to allocate more or fewer resources.',\n",
       "  \"What are the key differences between Oracle Cloud Infrastructure's bare metal compute instances and virtual machine (VM) instances, and how do these differences impact application performance?\\n\\nBare metal compute instances provide dedicated physical server access, offering superior performance and isolation compared to VM instances that share hardware. The impact on application performance depends on the specific workload; applications requiring high isolation and performance may benefit from bare metal instances, while VMs are suitable for less resource-intensive workloads.\",\n",
       "  'Can you explain the process of securely attaching volumes to a compute instance in Oracle Cloud Infrastructure, and how does this capability facilitate data management and application scalability?\\n\\nSecurely attaching volumes to a compute instance involves using the Oracle Cloud Infrastructure Console, CLI, or API to specify the instance and volume for attachment. This capability facilitates data management by enabling the expansion of storage without impacting existing data, and it supports application scalability as more storage can be added as needed.',\n",
       "  'What is the significance of creating snapshots for volumes in Oracle Cloud Infrastructure, and how does this practice contribute to data protection and disaster recovery strategies?\\n\\nCreating snapshots for volumes allows users to capture point-in-time copies of data, which is crucial for data protection and disaster recovery. Snapshots serve as backup copies that can be restored in case of data loss or system failures, enhancing the overall resilience of applications and systems.',\n",
       "  'In Oracle Cloud Infrastructure, how do you effectively access compute instances from remote locations, and what role do SSH and RDP play in this process?\\n\\nSecure access to compute instances from remote locations in Oracle Cloud Infrastructure can be achieved using SSH for Linux-based instances and RDP for Windows-based instances. SSH and RDP facilitate secure and encrypted connections, allowing remote management and administration of instances from anywhere with an internet connection.',\n",
       "  'Could you elaborate on the concept of Always Free resources in Oracle Cloud Infrastructure, and how can users leverage them for various use cases while staying within the specified limitations?\\n\\nAlways Free resources in Oracle Cloud Infrastructure are services and resources that can be used without incurring charges, subject to certain usage limitations. Users can leverage these resources for development, testing, small-scale applications, and learning purposes, all while adhering to the restrictions outlined in the terms and conditions.',\n",
       "  'When selecting the appropriate instance type for an application in Oracle Cloud Infrastructure, what key factors should be considered, and how do these factors influence the overall performance and resource allocation of the instances?\\n\\nSelecting the right instance type in Oracle Cloud Infrastructure involves evaluating factors such as CPU count, memory size, and network resources. These factors determine the performance and resource allocation of instances, ensuring they meet the specific demands of the application, whether it requires high CPU power, ample memory, or extensive network capabilities.',\n",
       "  'What role do burstable instances play in Oracle Cloud Infrastructure, and how can they balance CPU performance for applications with variable workloads? Can you provide an example of a use case?\\n\\nBurstable instances in Oracle Cloud Infrastructure provide a baseline level of CPU performance with the ability to burst to a higher level when required. They are ideal for applications with variable workloads, such as web servers that experience occasional traffic spikes. The baseline ensures consistent performance, while the burst capability handles increased load.',\n",
       "  'How do shielded instances enhance security in Oracle Cloud Infrastructure, and what types of security threats do they protect against? Can you provide an example of a scenario where shielded instances are beneficial?\\n\\nShielded instances in Oracle Cloud Infrastructure harden firmware security to defend against malicious boot-level software and firmware-based attacks. They protect against threats such as rootkits and other malicious code that might compromise system integrity. For instance, shielded instances are valuable in financial institutions where security and compliance are paramount.',\n",
       "  'What is the primary use case for extended memory VM instances in Oracle Cloud Infrastructure, and how do they contribute to the performance and scalability of memory-intensive workloads?\\n\\nExtended memory VM instances are designed for memory-intensive workloads that require more memory and cores. They enhance the performance and scalability of such workloads, allowing them to handle larger datasets, in-memory processing, and applications like real-time analytics or high-performance databases.',\n",
       "  \"How can Oracle Cloud Infrastructure's shape categories, including standard, DenseIO, GPU, and HPC/optimized shapes, meet the diverse needs of various applications? Can you provide examples of applications that benefit from each shape category?\\n\\nOracle Cloud Infrastructure's shape categories cater to a wide range of applications. Standard shapes suit general-purpose workloads, while DenseIO shapes are ideal for data-intensive applications. GPU shapes are tailored for machine learning and graphics-heavy workloads. HPC/optimized shapes are intended for high-performance computing, making them suitable for scientific simulations and research applications.\",\n",
       "  'What is cluster networking in Oracle Cloud Infrastructure, and how does it optimize communication between instances in a cluster? Could you provide an example of a use case where cluster networking is advantageous?\\n\\nCluster networking in Oracle Cloud Infrastructure enables instances to communicate efficiently with low latency, optimizing coordination between instances in a cluster. It is beneficial for applications like scientific simulations where multiple instances must work together to solve complex problems, requiring rapid data exchange between nodes.',\n",
       "  \"In Oracle Cloud Infrastructure, what are the key differences between Intel and AMD processors in GPU shapes, and how does the choice impact GPU-accelerated workloads?\\n\\nIntel and AMD processors in GPU shapes may offer different performance characteristics, and the choice depends on the specific requirements of GPU-accelerated workloads. For example, an application favoring Intel's CPU architecture may benefit from Intel-based GPU shapes, while others optimized for AMD may choose AMD-based GPU shapes.\",\n",
       "  'How do Oracle Cloud Infrastructure Compute Shapes address the needs of various applications, from general-purpose workloads to high-performance computing, and how can users make informed decisions when selecting the most suitable shape for their applications?\\n\\nOracle Cloud Infrastructure Compute Shapes offer a range of options, ensuring users can match specific workload requirements. General-purpose shapes are well-suited for diverse applications, while specialized shapes like HPC/optimized are tailored for high-performance computing. Users should assess their application requirements in terms of CPU power, memory, and network resources to make informed shape selections.',\n",
       "  'What factors influence Oracle Cloud Infrastructure Compute pricing, and how can users manage their costs effectively while provisioning and managing instances?\\n\\nOracle Cloud Infrastructure Compute pricing is influenced by instance type, storage usage, and network data transfer. To manage costs effectively, users should select the most appropriate instance type for their workloads, optimize storage usage, and monitor network data transfer, ensuring that resources are\\n\\n allocated efficiently.',\n",
       "  'Can you elaborate on the ways in which users can monitor and manage compute instances in Oracle Cloud Infrastructure, and how can automation and scripting be employed for streamlined management?\\n\\nUsers can monitor and manage compute instances in Oracle Cloud Infrastructure using the Console, CLI, and API. Automation and scripting allow for streamlined management by enabling programmatic control and automation of tasks, ensuring efficient resource allocation and maintenance.',\n",
       "  'What role does the Oracle Cloud Infrastructure Marketplace play in simplifying the deployment of software and solutions on compute instances, and how can users benefit from this platform?\\n\\nThe Oracle Cloud Infrastructure Marketplace simplifies the deployment of pre-configured software and solutions on compute instances, reducing setup time and complexity. Users can take advantage of a wide range of readily available solutions for their applications, saving time and effort in configuring and installing software.',\n",
       "  'Can you explain the use of Oracle Ksplice for applying critical kernel patches in Oracle Cloud Infrastructure, and how does this practice contribute to system availability and security?\\n\\nOracle Ksplice allows critical kernel patches to be applied to Linux instances without requiring a system reboot. This practice enhances system availability by reducing downtime during patch application, ensuring that applications remain accessible. It also contributes to security by keeping systems up-to-date and protected against vulnerabilities.',\n",
       "  'In the context of Oracle Cloud Infrastructure, how do extended memory VM instances differ from standard VM instances, and when should users opt for extended memory VMs?\\n\\nExtended memory VM instances offer more memory and cores than standard VM instances, making them suitable for memory-intensive workloads. Users should opt for extended memory VMs when their applications require a higher amount of memory and processing power to handle large datasets or in-memory processing.',\n",
       "  'What are some examples of workloads that benefit from using Oracle Cloud Infrastructure standard shapes, and how do these shapes provide a balanced combination of resources for general-purpose use?\\n\\nOracle Cloud Infrastructure standard shapes are suitable for a variety of general-purpose workloads, including web applications, databases, and development environments. These shapes provide a balance of CPU cores, memory, and network resources, ensuring versatility for different applications.',\n",
       "  'What advantages do DenseIO shapes offer for specific workloads in Oracle Cloud Infrastructure, and how do locally-attached NVMe-based SSDs enhance the performance of data-intensive applications?\\n\\nDenseIO shapes in Oracle Cloud Infrastructure are well-suited for data-intensive workloads, such as large databases and big data analytics. Locally-attached NVMe-based SSDs provide low-latency, high-performance storage, which is crucial for applications that depend on rapid access to data.',\n",
       "  'How can GPU shapes in Oracle Cloud Infrastructure accelerate specific workloads, and what types of applications benefit from the GPU acceleration they provide?\\n\\nGPU shapes in Oracle Cloud Infrastructure come with graphics processors that accelerate workloads such as machine learning, rendering, and video processing. Applications that require GPU acceleration for tasks like image recognition, 3D rendering, or scientific simulations benefit from these shapes.',\n",
       "  'When should users consider employing HPC and optimized shapes in Oracle Cloud Infrastructure, and what types of high-performance computing workloads are most compatible with these shapes?\\n\\nHPC and optimized shapes in Oracle Cloud Infrastructure are suitable for high-performance computing workloads that require high-frequency processor cores. Scientific simulations, finite element analysis, and rendering tasks are examples of workloads that benefit from the increased processing power of these shapes.',\n",
       "  'What is cluster networking in Oracle Cloud Infrastructure, and how does it support efficient communication between instances? Can you provide an example of a scenario where cluster networking is vital?\\n\\nCluster networking enables instances in Oracle Cloud Infrastructure to communicate efficiently with low latency, facilitating coordinated parallel processing. It is essential for scenarios like running a distributed database where multiple nodes must exchange data quickly and efficiently to maintain data consistency.',\n",
       "  'How do Intel and AMD-based GPU shapes differ in Oracle Cloud Infrastructure, and how should users choose between them based on their specific workload requirements?\\n\\nIntel and AMD-based GPU shapes may differ in terms of performance characteristics. Users should choose between them based on the compatibility of their workload with a particular CPU architecture. For instance, if their application is optimized for Intel CPUs, an Intel-based GPU shape would be the preferred choice.',\n",
       "  'How does Oracle Cloud Infrastructure Compute Shapes cater to the diverse needs of various applications, and what are some factors that users should consider when selecting the most suitable shape for their workloads?\\n\\nOracle Cloud Infrastructure Compute Shapes offer a variety of options, from general-purpose to specialized shapes, to accommodate diverse application needs. Users should consider factors such as CPU requirements, memory size, and network resources to select the shape that aligns with the specific demands of their workloads.',\n",
       "  'What factors influence Oracle Cloud Infrastructure Compute pricing, and how can users effectively manage their costs while provisioning and managing instances for their applications?\\n\\nOracle Cloud Infrastructure Compute pricing is determined by factors including instance type, storage usage, and network data transfer. To manage costs effectively, users should choose cost-efficient instance types, optimize storage usage, and monitor network data transfer, ensuring that resources are used efficiently.',\n",
       "  'How do users access and manage compute instances in Oracle Cloud Infrastructure, and what role does automation play in streamlining these processes for efficient resource allocation?\\n\\nUsers can access and manage compute instances in Oracle Cloud Infrastructure through the Console, CLI, and API. Automation is essential for streamlining these processes by enabling programmatic control and the automation of routine tasks, ensuring efficient resource allocation and maintenance.',\n",
       "  'How can the Oracle Cloud Infrastructure Marketplace simplify the deployment of software and solutions on compute instances, and what are the potential benefits for users leveraging this platform?\\n\\nThe Oracle Cloud Infrastructure Marketplace simplifies software deployment by offering pre-configured solutions for easy installation. Users can benefit from reduced setup time and effort, access a wide range of applications, and ensure the efficient deployment of software and services on their compute instances.',\n",
       "  'Can you explain the role of Oracle Ksplice in applying critical kernel patches in Oracle Cloud Infrastructure, and how does this practice contribute to enhanced system availability and security?\\n\\nOracle Ksplice facilitates the application of critical kernel patches to Linux instances without the need for system reboots. This contributes to enhanced system availability by minimizing downtime during patching, ensuring uninterrupted access to applications. Additionally, it bolsters security by keeping systems up-to-date and protected against vulnerabilities.',\n",
       "  'In the context of Oracle Cloud Infrastructure, what distinguishes extended memory VM instances from standard VM instances, and when should users consider utilizing extended memory VMs?\\n\\nExtended memory VM instances in Oracle Cloud Infrastructure offer more memory and cores than standard VM instances, making them suitable for memory-intensive workloads. Users should consider extended memory VMs when their applications require additional memory and processing power for tasks like in-memory processing, real-time analytics, or high-performance databases.',\n",
       "  'How do DenseIO shapes in Oracle Cloud Infrastructure enhance the performance of data-intensive workloads, and what is the role of locally-attached NVMe-based SSDs in achieving this improvement?\\n\\nDenseIO shapes are tailored for data-intensive workloads, such as large databases and big data analytics. The inclusion\\n\\n of locally-attached NVMe-based SSDs in these shapes significantly boosts performance by providing low-latency, high-speed storage, which is crucial for applications that depend on rapid data access.',\n",
       "  'In Oracle Cloud Infrastructure, how do Intel and AMD-based GPU shapes differ, and what considerations should users take into account when choosing between them based on their workload requirements?\\n\\nIntel and AMD-based GPU shapes may differ in terms of performance characteristics. Users should consider the compatibility of their workload with a specific CPU architecture when choosing between them. For instance, if an application is optimized for Intel CPUs, selecting an Intel-based GPU shape is advisable.',\n",
       "  \"How do Oracle Cloud Infrastructure Compute Shapes cater to a diverse range of application needs, from general-purpose workloads to high-performance computing, and what factors should users consider when selecting the most suitable shape for their applications?\\n\\nOracle Cloud Infrastructure Compute Shapes offer a variety of options to meet specific application requirements. General-purpose shapes are versatile and suitable for a wide range of applications, while specialized shapes, such as HPC/optimized, are tailored for high-performance computing. Users should assess their applications' needs in terms of CPU power, memory, and network resources to make informed shape selections.\",\n",
       "  'What factors impact Oracle Cloud Infrastructure Compute pricing, and how can users effectively manage their costs while provisioning and managing instances for their applications?\\n\\nOracle Cloud Infrastructure Compute pricing is influenced by instance type, storage usage, and network data transfer. Users can manage costs effectively by choosing cost-efficient instance types, optimizing storage usage, and monitoring network data transfer to ensure resources are used efficiently.',\n",
       "  'How can users access and manage compute instances in Oracle Cloud Infrastructure, and how does automation enhance the efficiency of resource allocation and management?\\n\\nUsers can access and manage compute instances in Oracle Cloud Infrastructure using the Console, CLI, and API. Automation plays a crucial role in streamlining resource allocation and management by enabling programmatic control and the automation of routine tasks, ensuring efficient resource utilization and maintenance.',\n",
       "  'How does the Oracle Cloud Infrastructure Marketplace simplify the deployment of software and solutions on compute instances, and what benefits can users gain from utilizing this platform?\\n\\nThe Oracle Cloud Infrastructure Marketplace simplifies software and solution deployment by offering pre-configured options for easy installation. Users can benefit from reduced setup time and complexity, access a wide range of applications, and ensure efficient software deployment on their compute instances.',\n",
       "  'Can you explain how Oracle Ksplice is utilized to apply critical kernel patches in Oracle Cloud Infrastructure, and what advantages does this approach offer in terms of system availability and security?\\n\\nOracle Ksplice allows for the application of critical kernel patches to Linux instances in Oracle Cloud Infrastructure without requiring a system reboot. This approach enhances system availability by minimizing downtime during patching, ensuring uninterrupted access to applications. Additionally, it contributes to security by keeping systems up-to-date and safeguarded against vulnerabilities.',\n",
       "  'What is the purpose of GPU shapes in Oracle Cloud Infrastructure, and how do they accelerate workloads? Can you provide examples of applications that benefit from GPU acceleration?\\n\\nGPU shapes in Oracle Cloud Infrastructure are designed to accelerate specific workloads by incorporating graphics processors. Applications such as machine learning, video rendering, and scientific simulations benefit from GPU acceleration, as it offloads computation to the GPU, resulting in faster and more efficient processing.',\n",
       "  'What is cluster networking in Oracle Cloud Infrastructure, and how does it enable efficient communication between instances? Can you provide a scenario where cluster networking plays a crucial role?\\n\\nCluster networking in Oracle Cloud Infrastructure facilitates efficient and low-latency communication between instances, supporting coordinated parallel processing. It is essential for scenarios such as running a distributed database where multiple nodes must exchange data rapidly to maintain data consistency and availability.',\n",
       "  'When is it advisable to use HPC and optimized shapes in Oracle Cloud Infrastructure, and what types of high-performance computing workloads are well-suited for these shapes?\\n\\nHPC and optimized shapes in Oracle Cloud Infrastructure are best suited for high-performance computing workloads that require high-frequency processor cores. Examples of such workloads include scientific simulations, computational modeling, and rendering tasks that demand maximum processing power.',\n",
       "  'What are the different types of host capacity available for launching compute instances?\\n\\nThere are four types of host capacity you can choose from: On-demand capacity, preemptible capacity, reserved capacity, and dedicated capacity.',\n",
       "  \"What is on-demand capacity, and how does it work?\\n\\nOn-demand capacity allows you to pay only for the compute capacity you use, with charges incurred by the second. You pay solely for the seconds your instances are running, but it's important to note that capacity availability is not guaranteed for large workloads.\",\n",
       "  'Can you explain preemptible capacity and its purpose?\\n\\nPreemptible capacity is a cost-saving option where you use preemptible instances for workloads that run briefly or can be interrupted when the capacity is needed elsewhere. These instances function like regular compute instances, but they are terminated when the capacity is reclaimed.',\n",
       "  'What is the advantage of using preemptible capacity?\\n\\nThe primary advantage of preemptible capacity is cost savings. Since you pay less for these instances, they are an economical choice for workloads with flexibility in execution timing.',\n",
       "  'How does reserved capacity work, and what is its purpose?\\n\\nReserved capacity involves reserving capacity for future use and ensuring its availability when you need to create compute instances. The reserved capacity is consumed when you launch instances against the reservation, and it increases when instances are terminated.',\n",
       "  'What is the key benefit of reserved capacity?\\n\\nThe main benefit of reserved capacity is the assurance of available resources for your compute instances, offering predictability and a way to maintain reserved capacity for your specific needs.',\n",
       "  'What is dedicated capacity, and when would you use it?\\n\\nDedicated capacity allows you to run VM instances on servers exclusive to your tenancy, ensuring they are not shared with other customers. This is ideal for meeting compliance and regulatory requirements for isolation and node-based or host-based licensing needs.',\n",
       "  'How can dedicated capacity be useful for compliance requirements?\\n\\nDedicated capacity is valuable for achieving compliance as it guarantees that your VM instances are isolated, which is often a requirement in certain compliance standards. It provides a higher level of security and control over your infrastructure.',\n",
       "  'Are there any limitations to these capacity types?\\n\\nYes, service limits and compartment quotas apply to all host capacity types. If you plan to reserve capacity that exceeds your service limits, you must request a service limit increase in advance.',\n",
       "  'What happens to unused reserved capacity?\\n\\nUnused reserved capacity is metered differently than used reserved capacity. When instances launched against reserved capacity are terminated, the unused capacity is returned to the reservation, increasing the overall available reserved capacity.',\n",
       "  'How can I get more information about these different capacity types?\\n\\nFor more detailed information about each capacity type, you can refer to the respective documentation: Preemptible Instances for preemptible capacity, Capacity Reservations for reserved capacity, and Dedicated Virtual Machine Hosts for dedicated capacity.',\n",
       "  'Is there a way to request an increase in service limits for reserved capacity?\\n\\nYes, if you anticipate that your reserved capacity needs will exceed your current service limits, you should request a service limit increase. This ensures that you can reserve the necessary capacity when required.',\n",
       "  'Is there a default capacity type when launching compute instances?\\n\\nYes, the default capacity type for launching compute instances is on-demand capacity. This means that you will pay for compute capacity based on actual usage, with charges incurred by the second.',\n",
       "  'Can you use preemptible instances for long-running workloads?\\n\\nPreemptible instances are designed for workloads that run for brief periods or can be interrupted when capacity is needed elsewhere. They are not suitable for long-running workloads.',\n",
       "  'Is preemptible capacity available on a first-come, first-served basis?\\n\\nYes, preemptible instances are allocated on a first-come, first-served basis, and the capacity may not always be immediately available.',\n",
       "  'What is the key advantage of using dedicated capacity over other types?\\n\\nThe primary advantage of dedicated capacity is the complete isolation it provides, making it ideal for meeting strict compliance requirements and specific licensing needs.',\n",
       "  'Are there any additional costs associated with using dedicated capacity?\\n\\nYes, using dedicated capacity typically involves higher costs compared to other capacity types due to the exclusive use of dedicated servers.',\n",
       "  'Can you change the type of host capacity for an existing instance?\\n\\nHost capacity types are generally selected at the time of instance creation. You cannot easily change the capacity type for an existing instance.',\n",
       "  'What should you do if you need to switch from on-demand capacity to reserved capacity?\\n\\nTo switch from on-demand capacity to reserved capacity, you would need to create new instances under the reserved capacity model and manage the transition carefully.',\n",
       "  \"Are there limitations to how much reserved capacity you can request?\\n\\nYes, your request for reserved capacity is subject to service limits. If you anticipate exceeding these limits, it's advisable to request a service limit increase.\",\n",
       "  'What are some use cases for using preemptible capacity?\\n\\nPreemptible capacity is suitable for tasks like batch processing, data analysis, rendering, and other short-term workloads that can tolerate interruptions.',\n",
       "  'Can you use dedicated capacity for workloads that require high levels of security?\\n\\nYes, dedicated capacity is an excellent choice for workloads that demand a high level of security and isolation, as it ensures your instances run on servers exclusive to your tenancy.',\n",
       "  'How can I ensure that I have access to the capacity type I need when I need it?\\n\\nYou can use reserved capacity to ensure you have access to the capacity you need when you need it. This involves reserving capacity in advance to guarantee availability for your compute instances.',\n",
       "  'What are the components required to launch an instance in Oracle Cloud Infrastructure?\\n\\nTo launch an instance in Oracle Cloud Infrastructure, you need the following components:\\n\\n- Availability domain, which is the data center hosting cloud resources in your geographical region.\\n- Virtual cloud network, a virtualized network environment that includes subnets, route tables, and gateways.\\n- Key pair (for Linux instances), a security mechanism for SSH access.\\n- Password (for Windows instances), used to access Windows platform image instances.\\n- Image, which serves as a template for the virtual hard drive, determining the OS and software.\\n- Shape, a template specifying the number of CPUs, memory, and other resources.\\n- Tags for organizing resources based on business needs.\\n- Optional volume attachments are also possible.',\n",
       "  'What is an availability domain in Oracle Cloud Infrastructure?\\n\\nAn availability domain in Oracle Cloud Infrastructure is a data center located within your geographic region that hosts various cloud resources, including instances. Users can place instances in the same or different availability domains depending on performance and redundancy requirements. It ensures high availability and fault tolerance within the Oracle Cloud.',\n",
       "  'What is a virtual cloud network in Oracle Cloud Infrastructure?\\n\\nA virtual cloud network in Oracle Cloud Infrastructure is a virtualized version of a traditional network. It includes components such as subnets, route tables, and gateways and provides the environment in which your instances operate. At least one cloud network must be set up before you can launch instances in Oracle Cloud Infrastructure.',\n",
       "  \"What is a key pair, and why is it required for Linux instances in Oracle Cloud Infrastructure?\\n\\nA key pair is a security mechanism required for Secure Shell (SSH) access to an instance in Oracle Cloud Infrastructure. For Linux instances, it's essential for secure remote access. Users generate and manage key pairs to authenticate and establish a secure connection to their instances, ensuring data security and access control.\",\n",
       "  'What is a password used for in Oracle Cloud Infrastructure for Windows instances?\\n\\nIn Oracle Cloud Infrastructure, a password is a security mechanism required to access instances using a Windows platform image. When launching an instance with a Windows image, the cloud infrastructure generates an initial, one-time password. This password can be retrieved using the console or API and must be changed after the initial login for security reasons.',\n",
       "  'What is an image in Oracle Cloud Infrastructure, and how is it used?\\n\\nAn image in Oracle Cloud Infrastructure is a template of a virtual hard drive that specifies the operating system and other software for an instance. Users can launch instances from various sources, including Oracle Cloud Infrastructure platform images, trusted third-party images, pre-built Oracle enterprise images, custom images, and community images. Images are crucial in defining the software environment for your instances.',\n",
       "  'What is a shape in Oracle Cloud Infrastructure, and why is it important?\\n\\nIn Oracle Cloud Infrastructure, a shape is a template that determines the number of CPUs, the amount of memory, and other allocated resources for a newly created instance. Choosing the right shape is vital as it directly impacts the performance and capabilities of your instance. Oracle offers a range of shapes, including both bare metal and virtual machine (VM) options.',\n",
       "  'How can tags be applied to resources in Oracle Cloud Infrastructure?\\n\\nIn Oracle Cloud Infrastructure, you can apply tags to your resources to help organize and categorize them according to your business needs. You can attach tags when creating a resource or update them later as required. Tags are a useful way to manage and identify resources, making it easier to track and organize them within your Oracle Cloud Infrastructure environment.',\n",
       "  'What are the options for launching instances in Oracle Cloud Infrastructure from images?\\n\\nYou can launch instances in Oracle Cloud Infrastructure from various image sources, including:\\n1. Oracle Cloud Infrastructure platform images.\\n2. Trusted third-party images from the Partner Image catalog.\\n3. Pre-built Oracle enterprise images enabled for Oracle Cloud Infrastructure.\\n4. Custom images, which allow users to bring their own images.\\n5. Community images, created and published by community members for use by other community members.\\n6. Boot volumes.',\n",
       "  'What is the purpose of attaching volumes to an instance in Oracle Cloud Infrastructure?\\n\\nAttaching volumes to an instance in Oracle Cloud Infrastructure allows you to expand storage capacity and separate data from the instance itself. This can be useful for storing large amounts of data or ensuring data persistence even if the instance is terminated. Volumes can be attached as needed to meet specific storage requirements. For more information on block volumes, see the Overview of Block Volume.',\n",
       "  \"How can you change the initial, one-time password for a Windows instance in Oracle Cloud Infrastructure?\\n\\nTo change the initial, one-time password for a Windows instance in Oracle Cloud Infrastructure, you can use the Windows operating system's built-in mechanisms for changing passwords. After the initial login, follow the appropriate steps to update the password securely and maintain the instance's security.\",\n",
       "  'What are the types of resources in Oracle Cloud Infrastructure that you can apply tags to?\\n\\nIn Oracle Cloud Infrastructure, you can apply tags to various resources, including instances, virtual cloud networks, subnets, route tables, gateways, and volumes. Tagging these resources helps you categorize and manage them effectively, making it easier to organize and track your resources based on your business requirements.',\n",
       "  \"How does the choice of an instance shape affect its performance in Oracle Cloud Infrastructure?\\n\\nThe choice of an instance shape in Oracle Cloud Infrastructure significantly impacts performance. Different shapes offer varying amounts of CPUs, memory, and resources. Choosing a shape that aligns with your application's requirements ensures optimal performance. For example, selecting a shape with more CPUs and memory provides better computational power, while smaller shapes are suitable for less resource-intensive workloads.\",\n",
       "  'What is the significance of a route table in Oracle Cloud Infrastructure?\\n\\nIn Oracle Cloud Infrastructure, a route table is a critical networking component responsible for routing traffic between subnets and gateways within a virtual cloud network. It defines the routing rules and ensures that network traffic is directed appropriately. Configuring route tables correctly is essential for efficient network communication within your Oracle Cloud Infrastructure environment.',\n",
       "  'What is the role of a gateway in a virtual cloud network in Oracle Cloud Infrastructure?\\n\\nA gateway in a virtual cloud network in Oracle Cloud Infrastructure serves as an entry or exit point for network traffic. It facilitates connectivity between your cloud resources and external networks, such as the internet or on-premises data centers. Gateways play a crucial role in enabling communication between your Oracle Cloud Infrastructure resources and the outside world.',\n",
       "  'Can you specify your own custom image when launching an instance in Oracle Cloud Infrastructure?\\n\\nYes, in Oracle Cloud Infrastructure, you can use custom images when launching instances. This allows you to define and use your own templates, including the operating system and software configurations. Custom images are useful for replicating specific software environments and ensuring consistency across your instances.',\n",
       "  'How can you ensure high availability for your instances in Oracle Cloud Infrastructure?\\n\\nTo ensure high availability for your instances in Oracle Cloud Infrastructure, you can place them in different availability domains within the same geographical region. This redundancy strategy minimizes the risk of downtime due to failures in a single data center. By distributing your instances across multiple availability domains, you enhance their resilience and reliability.',\n",
       "  'What are community images in Oracle Cloud Infrastructure, and who can use them?\\n\\nCommunity images in Oracle Cloud Infrastructure are images created and published by community members for the benefit of other community members. These images are available for use by anyone within the Oracle Cloud community. They provide a convenient way to share and utilize standardized image configurations across the platform.',\n",
       "  'What is the importance of managing key pairs for SSH access in Oracle Cloud Infrastructure?\\n\\nManaging key pairs for SSH access in Oracle Cloud Infrastructure is crucial for enhancing security. Key pairs ensure that only authorized users can access instances through SSH. By controlling and managing key pairs, you can protect your instances from unauthorized access and potential security threats, maintaining the integrity of your cloud environment.',\n",
       "  'How can you apply tags to resources after they have been created in Oracle Cloud Infrastructure?\\n\\nIn Oracle Cloud Infrastructure, you can apply tags to resources after they have been created by using the console or APIs. This flexibility allows you to adapt your tagging strategy as your resource management needs evolve. You can easily update and manage tags to organize and categorize resources based on your changing business requirements.']}"
      ]
     },
     "execution_count": 2,
     "metadata": {},
     "output_type": "execute_result"
    }
   ],
   "source": [
    "faqs = loadFAQs('.')\n",
    "faqs"
   ]
  },
  {
   "cell_type": "markdown",
   "metadata": {},
   "source": [
    "The final step in preparing the source data is to arrange the above dictionary in a way that is easy to ingest in the vector database. Enter this code into a new cell."
   ]
  },
  {
   "cell_type": "code",
   "execution_count": 3,
   "metadata": {},
   "outputs": [
    {
     "data": {
      "text/plain": [
       "[{'text': 'faq | Who are you and what can you do?\\n\\nI am DORA, the Digital ORacle Assistant, a digital assistant working for Oracle EMEA. I can answer questions about Oracle Cloud (OCI) and especially about the Free Trial and Always Free programs.',\n",
       "  'path': 'faq'},\n",
       " {'text': 'faq | What is Oracle Cloud Free Tier?\\n\\nOracle Cloud Free Tier allows you to sign up for an Oracle Cloud account which provides a number of Always Free services and a Free Trial with US$300 of free credit to use on all eligible Oracle Cloud Infrastructure services for up to 30 days. The Always Free services are available for an unlimited period of time. The Free Trial services may be used until your US$300 of free credits are consumed or the 30 days has expired, whichever comes first.',\n",
       "  'path': 'faq'}]"
      ]
     },
     "execution_count": 3,
     "metadata": {},
     "output_type": "execute_result"
    }
   ],
   "source": [
    "docs = [{'text': filename + ' | ' + section, 'path': filename} for filename, sections in faqs.items() for section in sections]\n",
    "\n",
    "# Sample the resulting data\n",
    "docs[:2]"
   ]
  },
  {
   "cell_type": "markdown",
   "metadata": {},
   "source": [
    "### Task 2: Loading the FAQ chunks into the vector database\n",
    "\n",
    "Make sure you downloaded the wallet file from the database's cloud console page, as described in the prerequisites. Upload it to the remote VM in VSCode and place it in the folder above the `vectors` folder. (Or anywhere else, but be sure to update the path to the wallet twice in the cell below.)\n",
    "\n",
    "Also, replace the username and password for the wallet and the database user in the cell too."
   ]
  },
  {
   "cell_type": "code",
   "execution_count": null,
   "metadata": {},
   "outputs": [],
   "source": [
    "import oracledb\n",
    "\n",
    "un = \"user\"\n",
    "pw = \"password\"\n",
    "dsn = 'doramulticloud_high'\n",
    "\n",
    "connection = oracledb.connect(\n",
    "    config_dir = '../wallet', \n",
    "    user=un, \n",
    "    password=pw, \n",
    "    dsn=dsn,\n",
    "    wallet_location = '../wallet',\n",
    "    wallet_password = 'password')"
   ]
  },
  {
   "cell_type": "markdown",
   "metadata": {},
   "source": [
    "Let's create the `faqs` table. We need a table inside our database to store our vectors and metadata.\n"
   ]
  },
  {
   "cell_type": "code",
   "execution_count": 5,
   "metadata": {},
   "outputs": [],
   "source": [
    "table_name = 'faqs'\n",
    "\n",
    "with connection.cursor() as cursor:\n",
    "    # Create the table\n",
    "    create_table_sql = f\"\"\"\n",
    "        CREATE TABLE IF NOT EXISTS {table_name} (\n",
    "            id NUMBER PRIMARY KEY,\n",
    "            payload CLOB CHECK (payload IS JSON),\n",
    "            vector VECTOR\n",
    "        )\"\"\"\n",
    "    try:\n",
    "        cursor.execute(create_table_sql)\n",
    "    except oracledb.DatabaseError as e:\n",
    "        raise\n",
    "\n",
    "    connection.autocommit = True"
   ]
  },
  {
   "cell_type": "markdown",
   "metadata": {},
   "source": [
    "To vectorize the text chunks from the FAQ file, we need an encoder to handle the vectorization for us."
   ]
  },
  {
   "cell_type": "code",
   "execution_count": null,
   "metadata": {},
   "outputs": [],
   "source": [
    "from sentence_transformers import SentenceTransformer\n",
    "encoder = SentenceTransformer('all-MiniLM-L12-v2')"
   ]
  },
  {
   "cell_type": "markdown",
   "metadata": {},
   "source": [
    "We go through all our chunks (stored in the docs dictionary) and encode the text content."
   ]
  },
  {
   "cell_type": "code",
   "execution_count": 7,
   "metadata": {},
   "outputs": [
    {
     "name": "stderr",
     "output_type": "stream",
     "text": [
      "Batches: 100%|██████████| 7/7 [00:18<00:00,  2.69s/it]\n"
     ]
    }
   ],
   "source": [
    "import array\n",
    "\n",
    "# Define a list to store the data\n",
    "data = [\n",
    "   {\"id\": idx, \"vector_source\": row['text'], \"payload\": row} \n",
    "   for idx, row in enumerate(docs)\n",
    "]\n",
    "\n",
    "# Collect all texts for batch encoding\n",
    "texts = [f\"{row['vector_source']}\" for row in data]\n",
    "\n",
    "# Encode all texts in a batch\n",
    "embeddings = encoder.encode(texts, batch_size=32, show_progress_bar=True)\n",
    "\n",
    "# Assign the embeddings back to your data structure\n",
    "for row, embedding in zip(data, embeddings):\n",
    "   row['vector'] = array.array(\"f\", embedding)"
   ]
  },
  {
   "cell_type": "markdown",
   "metadata": {},
   "source": [
    "That's it, now we have a structure with all our chunks, including its context — the source file name, in this simple example — and the vector representation for each of them.\n",
    "\n",
    "Next step is about inserting the chunks + vectors in the database.\n",
    "\n",
    "Initially, we use a cursor object from the established database connection to execute a command that truncates the specified table. This operation ensures that all existing rows are removed, effectively resetting the table to an empty state and preparing it for fresh data insertion.\n",
    "\n",
    "Subsequently, the code prepares a list of tuples containing the new data. Each tuple includes an id, a JSON-encoded payload, and a vector.\n",
    "\n",
    "The `json.dumps` function is used to convert the payload into a JSON string format, ensuring that complex data structures are properly serialized for database storage.\n",
    "\n",
    "We then utilize the `cursor.executemany` method to insert all prepared tuples into the table in a single batch operation. This method is highly efficient for handling bulk inserts, significantly reducing the number of database transactions and improving performance. Finally, the `connection.commit` method is called to commit the transaction, ensuring that all changes are saved and made permanent in the database."
   ]
  },
  {
   "cell_type": "code",
   "execution_count": 8,
   "metadata": {},
   "outputs": [],
   "source": [
    "import json\n",
    "\n",
    "with connection.cursor() as cursor:\n",
    "    # Truncate the table\n",
    "    cursor.execute(f\"truncate table {table_name}\")\n",
    "\n",
    "    prepared_data = [(row['id'], json.dumps(row['payload']), row['vector']) for row in data]\n",
    "\n",
    "    # Insert the data\n",
    "    cursor.executemany(\n",
    "        f\"\"\"INSERT INTO {table_name} (id, payload, vector)\n",
    "        VALUES (:1, :2, :3)\"\"\",\n",
    "        prepared_data\n",
    "    )\n",
    "\n",
    "    connection.commit()"
   ]
  },
  {
   "cell_type": "markdown",
   "metadata": {},
   "source": [
    "Just to confirm, let's examine what is currently stored in our table."
   ]
  },
  {
   "cell_type": "code",
   "execution_count": 9,
   "metadata": {},
   "outputs": [
    {
     "name": "stdout",
     "output_type": "stream",
     "text": [
      "(4, {'text': 'faq | Why do I need to provide credit or debit card information when I sign up for Oracle Cloud Free Tier?\\n\\nTo provide free Oracle Cloud accounts to our valued customers, we need to ensure that you are who you say you are. We use your contact information and credit/debit card information for account setup and identity verification. Oracle may periodically check the validity of your card, resulting in a temporary “authorization” hold. These holds are removed by your bank, typically within three to five days, and do not result in actual charges to your account.', 'path': 'faq'}, array('f', [0.07018847018480301, 0.04433804005384445, -0.023939840495586395, -0.006347176618874073, -0.010252853855490685, -0.012478452175855637, 0.02848970703780651, 0.07575367391109467, 0.05010652914643288, -0.024008600041270256, 0.0075529045425355434, 0.0019774867687374353, -0.01231752522289753, -0.11863134056329727, -0.00029428134439513087, -0.03439459204673767, -0.01508298795670271, -0.040697116404771805, 0.02259230799973011, -0.011760713532567024, -0.02002495899796486, -0.00430799787864089, -0.06400653719902039, -0.03179728239774704, 0.04633677750825882, -0.011798500083386898, 0.07785172015428543, -0.028945764526724815, -0.0015078787691891193, 0.024768752977252007, 0.13991732895374298, 0.07407897710800171, 0.051183052361011505, 0.02361701987683773, -0.03687049821019173, 0.023500343784689903, -0.12639379501342773, 0.0019843087065964937, -0.09723658859729767, 0.010132711380720139, 0.011462235823273659, -0.07550401240587234, -0.08751332759857178, 0.049615610390901566, 0.0011483795242384076, 0.0020623053424060345, 0.024327212944626808, 0.019267264753580093, -0.06140371039509773, -0.014302347786724567, 0.03384912759065628, 0.0389508493244648, 0.04506966471672058, -0.042399026453495026, -0.05411408096551895, -0.03106304444372654, 0.02551502175629139, 0.10125291347503662, -0.09759857505559921, -0.07411805540323257, 0.05957220867276192, -0.008973535150289536, -0.03399152308702469, 0.03889954462647438, -0.06352953612804413, 0.05960620567202568, -0.05096271261572838, 0.04726066067814827, 0.012009646743535995, -0.033601246774196625, -0.09103349596261978, -0.034344632178545, -0.09425228834152222, -0.010844512842595577, -0.042962413281202316, 0.07141831517219543, 0.004070405848324299, -0.01137521956115961, 0.006110883317887783, -0.0002914772485382855, -0.04181292653083801, 0.11215958744287491, -0.00369632919318974, 0.04111533239483833, -0.06917226314544678, 0.021434079855680466, 0.06407502293586731, -0.006685234140604734, -0.049567293375730515, -0.01623961143195629, 0.016158439218997955, -0.01932859979569912, 0.04493360593914986, -0.09350762516260147, -0.004012339748442173, -0.016742443665862083, -0.043803274631500244, -0.04070277139544487, 0.029236650094389915, -0.022186726331710815, 0.01276083942502737, 0.059052109718322754, -0.07172925770282745, 0.043955110013484955, 0.012694333679974079, 0.02263561449944973, 0.10952561348676682, 0.06151236593723297, 0.050854504108428955, 0.011044242419302464, 0.018143389374017715, -0.09333689510822296, 0.010912804864346981, -0.05919506028294563, -0.06850089877843857, 0.12291501462459564, -0.09048455208539963, -0.009035543538630009, -0.00031916628358885646, 0.017850937321782112, -0.10407141596078873, 0.029328325763344765, -0.015364661812782288, 0.002827373566105962, -0.008223196491599083, 0.010780960321426392, 0.03435034304857254, 0.04740311577916145, -0.03594488650560379, 0.0720662772655487, 0.05334863439202309, -0.05207110941410065, -0.0546468123793602, -0.07536520808935165, -0.012027623131871223, -0.03475701063871384, 0.08838532865047455, -0.030770251527428627, -0.052151042968034744, 0.015545782633125782, 0.1048598363995552, 0.02835802733898163, -0.01891065016388893, 0.08976446092128754, 0.07384955137968063, 0.04035051539540291, 0.10115411877632141, 0.05302061140537262, 0.052001647651195526, -0.06216905638575554, 0.1129310354590416, 0.02121341973543167, 0.016138240694999695, 0.027528293430805206, 0.010097756050527096, 0.01287939865142107, 0.01646154560148716, -0.04049940034747124, 0.005132764577865601, -0.04688045009970665, -0.06256233155727386, -0.05361354723572731, -0.043657053261995316, 0.09794434905052185, -0.05144919455051422, 0.014404196292161942, 0.06555140763521194, 0.033576589077711105, 0.11889861524105072, -0.025294391438364983, -0.017914220690727234, -0.01611088216304779, -0.05182294175028801, 0.029263800010085106, -0.019257819280028343, -0.10192445665597916, -0.0071920109912753105, 0.08488643169403076, -0.011970458552241325, 0.024518759921193123, -0.08991022408008575, -0.06921210139989853, -0.10138574987649918, -0.04163597524166107, -0.046730101108551025, 0.002417063107714057, -0.04748845845460892, -0.061805255711078644, 0.023277293890714645, -0.10862188786268234, -0.05387447029352188, -0.018071012571454048, -0.012961208820343018, 0.01895325630903244, -0.033234093338251114, -0.004382825456559658, 0.040237199515104294, -0.04207303747534752, 0.01106317713856697, 0.06930482387542725, -0.0022612374741584063, -0.03456560894846916, 0.04124228283762932, 0.100491002202034, 0.02858392335474491, -0.005052376072853804, 0.01654154434800148, 0.011187475174665451, -0.03392861410975456, 0.02333269640803337, 0.10481509566307068, 0.03535477817058563, -0.0017397060291841626, 0.04031606391072273, 0.0728602409362793, 0.06369443237781525, 0.0020408087875694036, 0.05767989158630371, -0.0006810235208831728, -0.031391777098178864, 0.04005064815282822, 0.0005334931192919612, 0.05714144557714462, 1.2140968506193222e-32, -0.015171961858868599, -0.17242781817913055, -0.06879991292953491, -0.04297826066613197, 0.08247845619916916, -0.05122293159365654, -0.006021276116371155, 0.0478101447224617, -0.026615150272846222, -0.0005313464207574725, -0.018889112398028374, 0.05668383091688156, 0.012317989021539688, 0.012448027729988098, 0.008779295720160007, 0.01015626173466444, 0.007127496879547834, 0.04044556990265846, -0.009327340871095657, 0.04932965710759163, 0.033442165702581406, 0.037023238837718964, 0.017570093274116516, 0.03587034344673157, 0.04858079180121422, 0.005232343450188637, -0.06256328523159027, -0.03975146636366844, 0.042618267238140106, 0.10223349183797836, -0.004342257045209408, 0.022246725857257843, -0.09046976268291473, 0.11121617257595062, -0.03325878083705902, -0.0759238451719284, -0.049455709755420685, 0.07053224742412567, -0.012769953347742558, 0.014562681317329407, -0.006661146879196167, -0.005213429220020771, 0.03739544376730919, -0.04117952287197113, -0.025068089365959167, -0.02735685370862484, 0.038870669901371, 0.04068556800484657, -0.0325191393494606, -0.01720813661813736, -0.049814287573099136, 0.015315917320549488, 0.12297900766134262, 0.057868655771017075, -0.02142142318189144, 0.07461269199848175, -0.009058562107384205, -0.012955906800925732, 0.030766358599066734, -0.013107734732329845, 0.01889636367559433, 0.01503793429583311, 0.005830694455653429, 0.01717192679643631, 0.00837681908160448, -0.048931825906038284, 0.006157089490443468, 0.07066743820905685, -0.03385163098573685, -0.0037990433629602194, -0.027664033696055412, -0.048954226076602936, -0.05343133956193924, 0.019575204700231552, -0.05804867669939995, 0.06970874220132828, -0.0434439517557621, 0.09435039013624191, 0.05738326534628868, 0.0023170658387243748, -0.042954836040735245, 0.025164859369397163, -0.017522109672427177, -0.037007905542850494, 0.03094572387635708, 0.0042166984640061855, 0.00497371144592762, -0.15888053178787231, -0.04429810121655464, -0.03818325698375702, -0.030990248546004295, 0.03150755912065506, -0.05276321619749069, 0.005231452640146017, -0.07588545978069305, 2.247282475784805e-32, -0.04735247790813446, -0.0053442795760929585, 0.06941918283700943, 0.007964108139276505, 0.039397794753313065, -0.07428225874900818, -0.004709230735898018, 0.018278351053595543, -0.039504025131464005, -0.037860721349716187, 0.03619777783751488, -0.04869219660758972, -0.0026563345454633236, -0.06927245855331421, 0.10015447437763214, 0.08956447243690491, 0.04852144420146942, -0.08859758079051971, -0.0368434339761734, -0.10604248195886612, -0.04215414449572563, 0.014567713253200054, -0.043521005660295486, 0.003384094452485442, -0.05615901201963425, 0.006249718833714724, 0.08488424867391586, 0.06824760884046555, 0.06559930741786957, 0.009772494435310364, 0.014835305511951447, 0.07262732833623886, 0.09375433623790741, -0.008292995393276215, 0.02989736944437027, -0.06456546485424042, 0.01008406188338995, -0.017962051555514336, -0.04940248280763626, 0.05811750888824463, 0.018270647153258324, 0.10713353008031845, 0.03140897676348686, -0.04575485363602638, -0.010647364892065525, -0.002541769528761506, -0.02511117234826088, -0.04993153363466263, 0.041015155613422394, 0.007913555949926376, 0.01611567847430706, 0.02755308337509632, 0.08423566818237305, -0.004773174412548542, -0.01744699478149414, -0.006340832449495792, 0.006465202663093805, -0.012185904197394848, 0.0425717867910862, 0.04982796683907509, 0.0033310512080788612, 0.023835040628910065, 0.005121876019984484, -0.045462071895599365]))\n",
      "(5, {'text': 'faq | What payment methods does Oracle accept?\\n\\nWe accept credit cards and debit cards that function like credit cards. We do not accept debit cards with a PIN or virtual, single-use, or prepaid cards.', 'path': 'faq'}, array('f', [0.06788758933544159, 0.041541676968336105, -0.0009052062523551285, 0.013548090122640133, -0.03848271444439888, 0.038398753851652145, -0.01689448580145836, 0.10317958146333694, 0.04895966500043869, -0.02472675032913685, -0.01758180558681488, 0.05236941948533058, -0.007690379396080971, -0.0836872011423111, 0.015736207365989685, -0.09194432944059372, -0.032943613827228546, 0.024130115285515785, 0.06740861386060715, 0.03802327439188957, -0.018037276342511177, -0.00837584026157856, -0.06606347113847733, -0.027360601350665092, -0.0002385629923082888, -0.0054574874229729176, 0.028172442689538002, -0.0011940256226807833, -0.031415414065122604, 0.02221101149916649, 0.0994858518242836, 0.06617951393127441, 0.06418193876743317, 0.05262953042984009, -0.13890387117862701, -0.02346135675907135, -0.07807929068803787, 0.013981474563479424, -0.10419218242168427, 0.08315303921699524, 0.07893767207860947, -0.06208626180887222, -0.05581750348210335, 0.02017327956855297, -0.006785730365663767, -0.08995456993579865, 0.00041859832708723843, 0.014549553394317627, -0.023395471274852753, 0.018439725041389465, 0.06941263377666473, 0.05501951649785042, 0.06100865826010704, -0.012576000764966011, -0.06530733406543732, -0.10162807255983353, -0.015694694593548775, 0.11440426856279373, -0.051842670887708664, -0.1303735226392746, 0.01780650205910206, 0.03217317536473274, -0.017613373696804047, 0.08417623490095139, -0.06043656915426254, 0.06977465748786926, -0.060766980051994324, 0.12792891263961792, -0.030327286571264267, -0.01778080128133297, -0.06648830324411392, -0.033014390617609024, -0.02238820679485798, 0.03087199293076992, -0.053600162267684937, 0.08954403549432755, 0.0461730919778347, -0.04154404252767563, -0.039371199905872345, -0.011895391158759594, -0.07947792857885361, 0.0957561582326889, -0.027117334306240082, -0.01287841983139515, -0.04824032261967659, 0.06584678590297699, 0.033151522278785706, 0.07920311391353607, 0.03430601954460144, -0.06676753610372543, 0.015153422020375729, 0.040867168456315994, 0.02209712564945221, -0.061820629984140396, 0.02882622927427292, 0.01737750880420208, -0.013923303224146366, -0.014414982870221138, -0.02280060015618801, -0.014204596169292927, 0.07128815352916718, 0.04190343618392944, -0.049234747886657715, 0.013047615997493267, 0.011668404564261436, 0.05136071890592575, 0.021063875406980515, -0.03443102911114693, 0.016298100352287292, -0.0567089281976223, -0.10070384293794632, -0.05030103772878647, 0.030808720737695694, -0.07732748240232468, -0.059632718563079834, 0.04831008240580559, -0.10677730292081833, -0.047429345548152924, -0.04464666545391083, 0.008733735419809818, -0.07462603598833084, -0.02992563508450985, -0.03462541103363037, -0.01162717491388321, 0.01690489985048771, 0.03766949474811554, -0.029238417744636536, 0.00031806842889636755, 0.008386597968637943, 4.0164268284570426e-05, 0.04136338829994202, -0.12942340970039368, -0.10621931403875351, -0.10719530284404755, -0.04076218232512474, -0.033646345138549805, 0.07709679007530212, -0.046097975224256516, -0.06455343216657639, 0.04791325330734253, 0.09119725227355957, 0.05347803980112076, -0.033929549157619476, 0.0600733682513237, 0.018911950290203094, 0.044887106865644455, 0.014799922704696655, 0.12524135410785675, 0.02987534925341606, -0.04187575727701187, 0.060774222016334534, 0.03769677132368088, -0.04005522280931473, 0.016403231769800186, -0.02341514267027378, 0.04476311802864075, 0.004759991075843573, -0.00679217092692852, -0.02740495279431343, -0.004224455449730158, -0.04698147624731064, -0.01764245517551899, -0.0448211207985878, 0.09341514855623245, -0.08321288973093033, 0.009472094476222992, 0.036840081214904785, 0.003748407121747732, 0.08108644187450409, -0.004000430461019278, 0.029744017869234085, -0.016636168584227562, -0.08181345462799072, 0.04340168461203575, -0.050760965794324875, -0.09122218936681747, -0.06421062350273132, 0.01930163986980915, -0.007648728787899017, -0.01211598515510559, -0.1028362438082695, 0.005271185655146837, -0.011351549066603184, -0.05194513499736786, -0.032123446464538574, 0.03593132644891739, -0.04257030785083771, 0.0016718507977202535, -0.010543879121541977, -0.0826198011636734, 0.036387935280799866, -0.07358682155609131, -0.030115772038698196, 0.03170866519212723, -0.10218655318021774, -0.0083553995937109, 0.03716772049665451, -0.05314308777451515, -0.03526700660586357, 0.08144821971654892, -0.011020086705684662, -0.003410243894904852, 0.007678731344640255, 0.053592048585414886, 0.02734871208667755, -0.0031553979497402906, 0.027519093826413155, -0.028272615745663643, -0.0018545264611020684, -0.03478928655385971, 0.04902458190917969, 0.10393062233924866, 0.010098070837557316, 0.06750060617923737, 0.025189047679305077, 0.0012144824722781777, 0.0021948216017335653, -0.015398303046822548, 0.0440080501139164, -0.027945509180426598, -0.01049288921058178, 0.01964903064072132, 0.11445243656635284, -4.29062344079446e-33, -0.06519783288240433, -0.06412195414304733, -0.045447129756212234, -0.028002744540572166, 0.03082709014415741, -0.023647822439670563, -0.1027369275689125, -0.05110762268304825, 0.05648873746395111, -0.065910205245018, 0.026546424254775047, 0.012807242572307587, 0.07387395948171616, 0.028564030304551125, 0.03626006096601486, -0.03926200047135353, 0.013810800388455391, 0.01125546358525753, -0.04704662784934044, 0.011975024826824665, 0.011781830340623856, -0.0006211400614120066, 0.029461579397320747, 0.01228328701108694, 0.08476181328296661, 0.01667698286473751, -0.05381062254309654, -0.022344471886754036, 0.005572828464210033, 0.04628156125545502, 0.05641809478402138, 0.04056446626782417, 0.008217239752411842, 0.06458894908428192, -0.03427211567759514, -0.05372419208288193, -0.02399490959942341, 0.037649042904376984, 0.01756332255899906, 0.03824812173843384, 0.05110817402601242, -0.029764367267489433, 0.061360664665699005, 0.017248384654521942, 0.0421205535531044, -0.05978861078619957, -0.03628063201904297, 0.048558805137872696, 0.0005516274250112474, -0.05148361250758171, -0.0467747300863266, 0.010614501312375069, 0.04766826331615448, 0.0200954619795084, 0.019442852586507797, 0.09971650689840317, 0.0008268980891443789, -0.0025643797125667334, -0.009899860247969627, -0.04687459021806717, -0.08235272020101547, -0.044662412256002426, 0.09586881846189499, 0.010321888141334057, -0.04913425073027611, -0.019821740686893463, -0.010541170835494995, 0.08049861341714859, -0.07121822983026505, -0.03681827336549759, -0.0029160650447010994, 0.014294099994003773, -0.0024154838174581528, 0.1138848215341568, 0.04176855832338333, 0.04081316292285919, -0.004192609339952469, 0.05326635390520096, 0.07749874889850616, 0.027027711272239685, 0.01997520960867405, 0.06025388836860657, 0.03131595253944397, 0.037130165845155716, 0.0212910957634449, 0.01007525622844696, -0.08874770253896713, -0.12488240003585815, -0.09620348364114761, -0.04308157414197922, -0.03256868198513985, 0.029443267732858658, 0.035257674753665924, 0.038417451083660126, -0.026248227804899216, 4.9110725751718923e-32, -0.034922949969768524, -0.060358643531799316, 0.02507637068629265, 0.010971655137836933, 0.03383404016494751, -0.08549395948648453, 0.017754344269633293, -0.016539238393306732, -0.023341922089457512, -0.03320259228348732, 0.002020087791606784, 0.00398540124297142, -0.0059079695492982864, -0.007173315621912479, 0.0391027070581913, 0.03820972889661789, 0.09096155315637589, -0.0003331613843329251, -0.0817176029086113, -0.06653623282909393, -0.04276929423213005, -0.05317026004195213, -0.026781180873513222, 0.009001210331916809, -0.010422660037875175, -0.011586138047277927, 0.08567105978727341, 0.0029665264301002026, 0.06502171605825424, -0.03256266936659813, 0.016336090862751007, 0.05496244877576828, 0.07736580073833466, 0.0005521147977560759, 0.10803207755088806, -0.05478952080011368, 0.0383991114795208, -0.020452553406357765, -0.06949940323829651, -0.002281683264300227, 0.03880302980542183, 0.0018080180743709207, -0.052540648728609085, -0.08905807882547379, -0.00399959459900856, 0.03872765600681305, 0.005164175294339657, -0.020709961652755737, -0.02016269415616989, -0.005513621959835291, 0.03722996264696121, 0.09031707048416138, 0.032046400010585785, -0.058314621448516846, -0.0573880597949028, -0.07053004950284958, -0.07023274153470993, -0.03282349929213524, 0.03794967010617256, -0.005700960289686918, 0.027489904314279556, 0.03931470587849617, 0.08022014796733856, -0.03181178867816925]))\n",
      "(9, {'text': 'faq | Does Oracle Cloud Free Tier include service level agreements (SLAs) and technical support?\\n\\nOracle Cloud Free Tier does not include SLAs. Community support through our forums is available to all customers. Customers using only Always Free resources are not eligible for Oracle Support. Limited support is available for Oracle Cloud Free Tier with Free Trial credits. After you use all of your credits or after your trial period ends (whichever comes first), you must upgrade to a paid account to access Oracle Support. If you choose not to upgrade and continue to use Always Free Services, you will not be eligible to raise a service request in My Oracle Support.', 'path': 'faq'}, array('f', [0.07728297263383865, -0.02677341178059578, 0.07107837498188019, -0.005319585558027029, 0.00251343147829175, 0.0008322370704263449, -0.0890381708741188, -0.01639668643474579, 0.09171334654092789, 0.004381864797323942, 0.0411248654127121, -0.01119969505816698, 0.0005102090071886778, -0.019394760951399803, 0.03213946521282196, -0.07567710429430008, 0.06370840966701508, 0.010720974765717983, -0.007325058802962303, 0.006022617686539888, 0.011034753173589706, -0.010245225392282009, -0.066585473716259, -0.025838937610387802, 0.014389263466000557, -0.03180188313126564, -0.00648642610758543, -0.009396438486874104, 0.05500134453177452, -0.014249657280743122, 0.05556541308760643, 0.058519475162029266, -0.03185755014419556, -0.01345729362219572, -0.01620573364198208, 0.045624397695064545, -0.08594220131635666, -0.006396214012056589, -0.06080013886094093, 0.034537725150585175, -0.0012830127961933613, -0.03312632814049721, -0.10547470301389694, 0.11273521184921265, -0.04659008979797363, -0.06477422267198563, 0.03829165920615196, -0.023094695061445236, -0.08506913483142853, -0.02504422701895237, 0.04582259804010391, -0.00921561662107706, 0.03153306618332863, -0.03150493651628494, -0.12274855375289917, 0.040631745010614395, 0.07676703482866287, 0.10822596400976181, -0.14962975680828094, -0.05108751356601715, 0.025878997519612312, -0.059496305882930756, 0.00974307768046856, 0.017773859202861786, -0.03945473954081535, 0.034391894936561584, -0.0918908640742302, 0.05420399829745293, -0.0043821209110319614, -0.11545003950595856, -0.08852040022611618, -0.03451433405280113, -0.04255569726228714, 0.011109154671430588, -0.02696651965379715, 0.07565940916538239, 0.020915938541293144, -0.005277477204799652, 0.054336853325366974, -0.011687489226460457, -0.01064305566251278, 0.14175671339035034, -0.0733070969581604, -0.002248668810352683, -0.027451487258076668, 0.046897340565919876, -0.00644176360219717, -0.023348476737737656, 0.026043595746159554, 0.04558185860514641, -0.009445584379136562, -0.023556286469101906, 0.04870666190981865, -0.00655922619625926, -0.013804451562464237, -0.02421637624502182, -0.01008707657456398, -0.05048685893416405, -0.01880437135696411, -0.002925102598965168, -0.03165065124630928, -0.037405140697956085, -0.011875255033373833, -0.0031951467972248793, -0.036226656287908554, 0.06063186377286911, 0.04702482745051384, 0.08213398605585098, 0.027780480682849884, -0.00468599796295166, -0.03229576721787453, -0.0676664337515831, 0.04432739317417145, -0.13714279234409332, -0.10050768405199051, -0.004005076363682747, -0.034349020570516586, -0.0006986365769989789, -0.010226300917565823, -0.0250772126019001, -0.05427170917391777, -0.022599007934331894, 0.05866987258195877, 0.055062856525182724, 0.039416246116161346, 0.06024046987295151, 0.009435909800231457, 0.056679610162973404, 0.005780291743576527, 0.018914315849542618, 0.03937682509422302, -0.07572481036186218, -0.025707412511110306, -0.01887955702841282, 0.009187969379127026, -0.01934628002345562, 2.692476482479833e-05, -0.03952674940228462, 0.02597722038626671, 0.0784841924905777, 0.03831739351153374, -0.02053135260939598, 0.016410840675234795, 0.12572503089904785, -0.00511938938871026, 0.08741527050733566, 0.007433535065501928, -0.02483467198908329, -0.022012963891029358, -0.002603749977424741, 0.09614275395870209, -0.001914150663651526, -0.02316238544881344, 0.017874203622341156, -0.02282566763460636, 0.027366524562239647, 0.02055702917277813, 0.0028113694861531258, -0.07039898633956909, 0.06924230605363846, -0.050200749188661575, -0.11712449789047241, -0.057245053350925446, 0.08523988723754883, -0.06835758686065674, -0.06561536341905594, 0.05590008199214935, 0.05342598631978035, 0.0015338240191340446, 0.008253058418631554, 0.026997964829206467, -0.012667680159211159, -0.06359439343214035, -0.03645022585988045, -0.03472073748707771, -0.08832751214504242, 0.011853811331093311, 0.021305179223418236, -0.012854691594839096, 0.028753960505127907, -0.038627877831459045, -0.041060920804739, 0.018123285844922066, 0.057495683431625366, -0.020136689767241478, 0.013715495355427265, -0.08143211901187897, 0.017840484157204628, -0.045328039675951004, -0.10665009915828705, -0.06709061563014984, -0.004872946999967098, -0.005108564160764217, 0.028635824099183083, -0.04331670328974724, -0.022226309403777122, 0.034375037997961044, 0.014563433825969696, 0.030848892405629158, 0.03706520050764084, 0.019737979397177696, 0.10877374559640884, 0.03484265133738518, 0.0674779862165451, 0.050873763859272, -0.020273448899388313, 0.02517414093017578, 0.031080972403287888, -0.034978192299604416, -0.009906549006700516, 0.026478884741663933, 0.028384316712617874, 0.04816142097115517, 0.029335377737879753, 0.040373098105192184, 0.07873977720737457, 0.06998786330223083, -0.06026977673172951, -0.10792407393455505, -0.0657268613576889, -0.020726948976516724, 0.03861641511321068, 0.0738411471247673, -4.815627870546495e-33, -0.003353199688717723, -0.06601343303918839, -0.09905657917261124, -0.008946157991886139, 0.038641154766082764, -0.023935876786708832, -0.05042789503931999, -0.012375769205391407, -0.02238409034907818, 0.09000006318092346, 0.027943799272179604, -0.037377335131168365, 0.0299009270966053, -0.02980906516313553, 0.004147435072809458, -0.065142422914505, -0.07347633689641953, 0.058684784919023514, 0.04962999373674393, 0.08324311673641205, 0.04869268834590912, 0.030279992148280144, -0.027505390346050262, 0.06884855031967163, 0.1060359850525856, 0.030639663338661194, -0.07333391904830933, 0.0323057621717453, -0.0023659549187868834, 0.04291066899895668, 0.014929844997823238, -0.021579723805189133, -0.041769444942474365, 0.06532580405473709, -0.03127526119351387, -0.0751161277294159, -0.012043199501931667, 0.02081374078989029, -0.04215320199728012, -0.06170395389199257, 0.10422994196414948, -0.01099247857928276, 0.0566507987678051, -0.06851425021886826, -0.07164463400840759, 0.009660384617745876, 0.029437890276312828, 0.018355440348386765, -0.03227732703089714, -0.0989832729101181, -0.006000685505568981, 0.06740549951791763, 0.10334639996290207, 0.041461195796728134, 0.03024650737643242, 0.012970330193638802, 0.008297218941152096, -0.036258455365896225, -0.0663500428199768, -0.10516021400690079, 0.010263286530971527, 0.010137866251170635, 0.035934437066316605, -0.01660991460084915, 0.03257943317294121, -0.0032979215029627085, 0.0034102825447916985, 0.03544953837990761, -0.032289326190948486, -0.040739089250564575, -0.017582857981324196, -0.10730908066034317, -0.13426776230335236, -0.03616439923644066, -0.06210331618785858, -0.021443787962198257, -0.08507020771503448, -0.009240521118044853, 0.023095598444342613, -0.05267677828669548, -0.03858696669340134, 0.028726762160658836, 0.009774408303201199, -0.0673116073012352, 0.04014772176742554, -0.006202991120517254, 0.00812426209449768, -0.12348117679357529, 0.0004787670914083719, -0.030934227630496025, -0.018948795273900032, -0.00295223924331367, -0.018156101927161217, 0.06011764332652092, -0.005827924702316523, 6.265551810080609e-32, 0.030438348650932312, 0.05499329790472984, 0.04523511230945587, -0.0535210557281971, 0.06551750749349594, -0.07556245476007462, -0.020799512043595314, -0.016580529510974884, -0.020528549328446388, 0.015080694109201431, 0.00993660930544138, -0.08978582918643951, -4.497275222092867e-05, -0.010812253691256046, 0.07252246886491776, 0.073152095079422, 0.04742775112390518, 0.10148288309574127, -0.01256699301302433, -0.05734928324818611, -0.017039183527231216, 0.07055114954710007, -0.025823313742876053, 0.005925074219703674, -0.11761172115802765, -0.01925726793706417, 0.023348037153482437, 0.012322133406996727, 0.06543424725532532, -0.027060210704803467, -0.02148601971566677, -0.06634237617254257, 0.03640201315283775, -0.11983106285333633, 0.08701715618371964, -0.010995117947459221, -0.007731106132268906, -0.034617986530065536, -0.052889540791511536, 0.07666593790054321, 0.028446191921830177, 0.09446585178375244, 0.050468798726797104, -0.033753618597984314, -0.015539334155619144, 0.06051195412874222, -0.07477791607379913, 0.016503741964697838, 0.041448500007390976, -0.010342064313590527, 0.03125053644180298, 0.04863465577363968, 0.011547945439815521, 0.04175974801182747, -0.014520322903990746, 0.030334465205669403, 0.045233335345983505, -0.018288301303982735, 0.031138816848397255, 0.08127196878194809, 0.06326232105493546, -0.0045528775081038475, 0.046914178878068924, -0.026836855337023735]))\n",
      "(10, {'text': 'faq | What are Always Free services?\\n\\nAlways Free services are part of Oracle Cloud Free Tier. Always Free services are available for an unlimited time. Some limitations apply. As new Always Free services become available, you will automatically be able to use those as well.\\n\\nThe following services are available as Always Free:\\n\\nAMD-based Compute\\nArm-based Ampere A1 Compute\\nBlock Volume\\nObject Storage\\nArchive Storage\\nFlexible Load Balancer\\nFlexible Network Load Balancer\\nVPN Connect\\nAutonomous Data Warehouse\\nAutonomous Transaction Processing\\nAutonomous JSON Database\\nNoSQL Database (Phoenix Region only)\\nAPEX Application Development\\nResource Manager (Terraform)\\nMonitoring\\nNotifications\\nLogging\\nApplication Performance Monitoring\\nService Connector Hub\\nVault\\nBastions\\nSecurity Advisor\\nVirtual Cloud Networks\\nSite-to-Site VPN\\nContent Management Starter Edition\\nEmail Delivery', 'path': 'faq'}, array('f', [-0.011583643034100533, -0.0017270303796976805, 0.013835807330906391, 0.02649102546274662, 0.031044144183397293, -0.0002113005321007222, -0.09604217857122421, 0.05011530965566635, 0.06675103306770325, -0.059567078948020935, 0.0355960950255394, 0.03319549560546875, 0.004989562090486288, -0.0338732935488224, 0.04777158051729202, -0.04305068030953407, 0.08963162451982498, 0.027710173279047012, 0.022153295576572418, -0.015075095929205418, -0.04590405896306038, -0.08919959515333176, -0.029165709391236305, -0.010062369517982006, 0.023111220449209213, -0.06300009787082672, 0.03766510635614395, -0.08443814516067505, 0.021560251712799072, -0.011710814200341702, 0.04810155928134918, 0.033933259546756744, -0.026280423626303673, 0.002898108446970582, -0.0008046480943448842, 0.002986987354233861, -0.04410044848918915, 0.08862920850515366, -0.08708509802818298, -0.05131560191512108, 0.01598171703517437, 0.025644324719905853, -0.08219099044799805, 0.0648624375462532, 0.003170689567923546, -0.030398475006222725, 0.027262980118393898, -0.015412534587085247, 0.014116201549768448, -0.08184435218572617, 0.024846693500876427, -0.0026647639460861683, 0.059048257768154144, -0.02137702703475952, -0.033520326018333435, -1.8434011508361436e-05, 0.06820667535066605, 0.038705989718437195, -0.12259512394666672, -0.03699902445077896, 0.00856019277125597, -0.01653558947145939, -0.009924340061843395, 0.015005224384367466, -0.06484293937683105, 0.07087607681751251, -0.06953408569097519, 0.059459567070007324, -0.02667437307536602, -0.09214848279953003, -0.1521870642900467, -0.02733582817018032, -0.046496402472257614, -0.00990242324769497, 0.01699983887374401, 0.067630335688591, 0.08215604722499847, -0.004722484387457371, 0.008626196533441544, -0.0021113278344273567, -0.017482532188296318, 0.006883694790303707, -0.050586942583322525, 0.05628108233213425, -0.0066450354643166065, 0.04583150893449783, -0.03082878701388836, 0.008798553608357906, -0.00685123773291707, 0.022361362352967262, -0.025065477937459946, -0.008168349973857403, 0.018758689984679222, -0.058305103331804276, 0.01770114339888096, 0.03674902394413948, -0.055303528904914856, -0.09210667759180069, -0.041361890733242035, 0.016522377729415894, -0.001347868237644434, -0.05408896133303642, 0.002940654056146741, 0.020145844668149948, -0.0308065228164196, 0.045762766152620316, -0.03185774013400078, -0.0118504473939538, 0.025601429864764214, 0.03834475576877594, -0.018536832183599472, 0.028572263196110725, 0.018071608617901802, -0.10096385329961777, -0.07807959616184235, -0.0012048326898366213, -0.05966661870479584, -0.008376709185540676, -0.03732984513044357, 0.044471655040979385, -0.0855497196316719, 0.04487381502985954, 0.02342282235622406, 0.01601031795144081, -0.007993845269083977, -0.007953151129186153, -0.03491751104593277, 0.027808401733636856, -0.08244014531373978, -0.0038355945143848658, 0.0859350860118866, -0.11820937693119049, -0.0489250048995018, -0.023991068825125694, -0.0021977885626256466, -0.03710135817527771, -0.01562372874468565, 0.0007350598461925983, -0.015476560220122337, 0.08147742599248886, 0.01885220967233181, 0.0004486943653319031, 0.0030311737209558487, 0.0209786556661129, 0.03539160639047623, 0.031194204464554787, 0.04211713746190071, -0.031302276998758316, -0.07161285728216171, -0.012254077941179276, 0.05811813473701477, -0.003893965156748891, 0.009968753904104233, 0.018286366015672684, 0.06661893427371979, -0.12647080421447754, 0.014837794005870819, -0.0694129690527916, -0.04539288207888603, 0.0021567903459072113, -0.06682141125202179, -0.05197317525744438, -0.060807958245277405, 0.021276669576764107, -0.15064837038516998, 0.030465135350823402, -0.020759306848049164, -0.028448039665818214, 0.0372939370572567, 0.03407899662852287, 0.010050647892057896, -0.03504965081810951, -0.010382465086877346, -0.015609106980264187, -0.05278796702623367, -0.04429853335022926, -0.027241509407758713, 0.018214022740721703, 0.01181075256317854, -0.07192397117614746, -0.06716111302375793, 0.05608712509274483, -0.07569492608308792, 0.041566915810108185, -0.0738292708992958, -0.01580004207789898, -0.0547780767083168, 0.02230086922645569, -0.0192420594394207, -0.04540027678012848, -0.024198709055781364, -0.055407315492630005, -0.052879419177770615, 0.0647454485297203, -0.05960942432284355, 0.04326961189508438, -0.003594479989260435, 0.02728321962058544, 0.06736613810062408, -0.0019229964818805456, 0.026161404326558113, 0.04048357903957367, -0.016548018902540207, 0.06614453345537186, 0.04489419609308243, 0.015168368816375732, -0.05783035606145859, 0.011767176911234856, -0.06443610787391663, 0.03502786159515381, 0.0612306222319603, 0.032268088310956955, 0.09593667089939117, 0.025271812453866005, 0.009588660672307014, 0.0919608548283577, 0.00272737187333405, 0.024596285074949265, -0.010743003338575363, 0.017539191991090775, 0.01991058699786663, 0.02112342044711113, 0.030137348920106888, -1.0773773067270897e-32, 0.02037166617810726, -0.06530418992042542, -0.09515705704689026, 0.05902039632201195, 0.026973653584718704, -0.04015399143099785, 0.02419832907617092, -0.008359282277524471, -0.02056340128183365, 0.06893368810415268, 0.0103363748639822, 0.08681873232126236, 0.09921562671661377, -0.0490959957242012, -0.03394123539328575, 0.009983021765947342, -0.032399456948041916, 0.0020732844714075327, 0.06038820743560791, 0.08277718722820282, -0.004507316276431084, 0.0819634199142456, -0.08670205622911453, 0.07364080101251602, 0.10348094999790192, -0.013440853916108608, -0.10174386203289032, 0.028932880610227585, -0.1380910575389862, 0.020913297310471535, -0.1068655401468277, 0.06525513529777527, -0.02461814507842064, 0.035092372447252274, 0.018122587352991104, -0.10288744419813156, 0.014336379244923592, 0.01901780255138874, 0.005268721375614405, 0.012626783922314644, 0.07665323466062546, -0.019532019272446632, 0.00584363890811801, -0.038715001195669174, -0.03839212656021118, 0.03116428107023239, -0.04111311584711075, 0.02926947921514511, -0.042416051030159, -0.10106231272220612, -0.006412058137357235, -0.020262334495782852, 0.10884353518486023, 0.01911119930446148, 0.05745425820350647, 0.0691944807767868, -0.08465790003538132, -0.09298132359981537, -0.07694916427135468, -0.033103205263614655, -0.04880273714661598, 0.00040064111817628145, -0.05384420230984688, 0.1142406165599823, -0.013866973109543324, 0.019978879019618034, 0.05693734809756279, 0.10610749572515488, -0.04023917764425278, -0.02586335875093937, -0.029914353042840958, -0.04461170360445976, -0.08554253727197647, -0.036622561514377594, -0.09328452497720718, 0.07496186345815659, -0.07196882367134094, 0.025328129529953003, 0.020518139004707336, -0.054773248732089996, 0.02607825957238674, -0.0038486120756715536, 0.03951040282845497, -0.039218176156282425, 0.02020218037068844, -0.042157746851444244, -0.0013056473108008504, -0.02053041011095047, 0.04203866049647331, -0.00878176186233759, -0.018486643210053444, -0.03364410996437073, -0.047082435339689255, 0.12072382122278214, -0.01833329163491726, 8.285065210725509e-32, 0.011181161738932133, -0.019258281216025352, 0.06735245138406754, 0.00014925537107046694, 0.058507923036813736, -0.08342618495225906, 0.017794502899050713, 0.01768011599779129, -0.01777903363108635, 0.008754333481192589, 0.05053955689072609, -0.09420961886644363, -0.04262809827923775, 0.0029983161948621273, 0.06627706438302994, 0.08534695953130722, 0.012840909883379936, 0.03309278562664986, -0.15245512127876282, -0.01852748729288578, -0.0014843358658254147, 0.06861689686775208, -0.0004425999359227717, 0.010123913176357746, -0.04962330311536789, 0.04784366860985756, 0.07107102870941162, -0.025572486221790314, 0.10872723907232285, 0.0050676241517066956, 0.03619109466671944, -0.050195105373859406, 0.04042086750268936, -0.10639294236898422, 0.0392380990087986, -0.001365432282909751, 0.019154854118824005, 0.01892503909766674, -0.055281128734350204, 0.03844774141907692, 0.04260195046663284, 0.14162515103816986, 0.03180834650993347, -0.017454391345381737, -0.06245801970362663, 0.1038423553109169, -0.023427238687872887, 0.0028270604088902473, 0.0505501888692379, -0.006695170421153307, 0.016523534432053566, 0.03828664496541023, 0.0015908288769423962, 0.019235558807849884, 0.039066724479198456, 0.025265375152230263, -0.035798925906419754, -0.04051137715578079, 0.035339679569005966, 0.026152828708291054, 0.00566436443477869, 0.012456963770091534, 0.08258774876594543, -0.08569265902042389]))\n",
      "(6, {'text': 'faq | Is Oracle Cloud Free Tier available in all countries?\\n\\nOracle Cloud Free Tier is currently available in all regions where commercial Oracle Cloud Infrastructure service is available. See the data regions page for detailed service availability. * If your first-choice data region isn’t available, please select an adjacent region. If you are unable to find the country or territory you require, please contact Oracle Sales or Cloud Support using the Chat link in the menu bar. The Oracle Sales team can help you sign up for Oracle Cloud Free Tier.', 'path': 'faq'}, array('f', [0.10087422281503677, -0.03004186972975731, 0.011418337933719158, -0.03907641023397446, -0.03235461190342903, -0.007532820105552673, -0.10834135115146637, 0.02924707531929016, 0.043437689542770386, 0.012991804629564285, 0.025158880278468132, -0.021439440548419952, 0.004397128242999315, -0.046429749578237534, 0.016361054033041, -0.09146281331777573, -0.03818947821855545, -0.008000718429684639, -0.011667677201330662, -0.08230659365653992, -0.03442741930484772, 0.019769566133618355, -0.03863780200481415, -0.04551113769412041, 0.08130195736885071, -0.03139260411262512, 0.06219537556171417, -0.027245935052633286, 0.0445791520178318, -0.05565546080470085, 0.10037092864513397, 0.047371409833431244, -0.08768816292285919, 0.006702188868075609, 0.02332960069179535, -0.0022428680676966906, -0.15754514932632446, 0.006597535219043493, 0.004168309736996889, 0.000504376133903861, -0.002317209029570222, 0.004715525545179844, -0.09221441298723221, 0.10048343986272812, -0.06611377745866776, 0.008826012723147869, 0.05090608447790146, 0.015914298593997955, -0.04006433114409447, -0.05926567316055298, 0.013960986398160458, 0.03594808280467987, 0.029101891443133354, 0.021218257024884224, -0.03304697200655937, -0.01157668512314558, 0.024259617552161217, 0.11309833824634552, -0.10183978825807571, -0.02359747886657715, 0.03131919726729393, -0.01091880351305008, -0.006352943368256092, 0.0035275977570563555, -0.057385046035051346, 0.05583228915929794, -0.023515993729233742, 0.03701173886656761, -0.043335553258657455, -0.1447942852973938, -0.10674844682216644, -0.07779224961996078, -0.026845207437872887, 0.02665870450437069, 0.012361454777419567, 0.06135881692171097, 0.02783074788749218, 0.0013336398405954242, 0.04918951541185379, 0.024770190939307213, 0.03359686955809593, 0.10592012852430344, -0.06120140850543976, -0.001180449966341257, -0.06209815666079521, 0.005606257822364569, -0.006126368418335915, 0.007095972541719675, 0.004599862731993198, 0.011186276562511921, -0.06320197880268097, 0.007827314548194408, 0.0027355120982974768, 0.0006979553145356476, -0.030650032684206963, -0.03803796321153641, 0.0035440304782241583, -0.05005282908678055, 0.014753228053450584, -0.03877142816781998, -0.03016768768429756, -0.03958820551633835, -0.016736123710870743, -0.0023072133772075176, -0.004033889155834913, 0.056390780955553055, -0.0031102157663553953, 0.05351480841636658, 0.02473587356507778, 0.022479085251688957, -0.0791943147778511, 0.016820872202515602, 0.0019125925609841943, -0.1000356376171112, -0.10764168202877045, 0.00011642327444860712, -0.06305451691150665, -0.07204782217741013, -0.041586585342884064, -0.009427100419998169, -0.06644029915332794, -0.0774758830666542, 0.03777988627552986, 0.021504458039999008, 0.06219499930739403, 0.08513778448104858, 0.024225957691669464, 0.006395249627530575, -0.002234706189483404, -0.007106646429747343, 0.15471556782722473, -0.07057899981737137, -0.0784529522061348, 0.02751385234296322, 0.007553109433501959, 0.012279451824724674, 0.01620253175497055, -0.06402955949306488, 0.02866606041789055, 0.06778215616941452, 0.057679180055856705, -0.05963011458516121, 0.043537724763154984, 0.03605562821030617, 0.06888064742088318, 0.009735575877130032, -0.03749721869826317, 0.0203492883592844, -0.0682566687464714, -0.026357324793934822, 0.07010204344987869, -0.00998708512634039, -0.04127417877316475, -0.01263519562780857, 0.007048217114061117, -0.0535832978785038, 0.02552800625562668, 0.04593832418322563, -0.021624000743031502, -0.0033992573153227568, -0.09047813713550568, -0.0719195306301117, -0.08104141801595688, 0.02323354035615921, -0.15259554982185364, 0.06328260898590088, 0.006589994300156832, 0.03730892390012741, 0.11776179820299149, 0.020053936168551445, 0.005132890772074461, 0.02913208119571209, -0.04026889428496361, 0.018169159069657326, -0.03963549807667732, -0.0685395821928978, -0.008972435258328915, 0.031492773443460464, -0.014624721370637417, -0.038537271320819855, -0.09233274310827255, -0.08787879347801208, 0.023717308416962624, 0.02830873802304268, -0.04902966693043709, 0.011320446617901325, -0.00452067144215107, -0.02761712111532688, -0.017939183861017227, -0.07382865250110626, -0.06044597178697586, -0.02562875486910343, 0.014008259400725365, 0.03738080710172653, -0.049695901572704315, 0.012098790146410465, -0.02623210847377777, 0.0024367650039494038, 0.09631535410881042, 0.022608060389757156, 0.06583542376756668, 0.12263581901788712, 0.05004556477069855, 0.13107943534851074, 0.03179439529776573, -0.005886082537472248, 0.020264845341444016, -0.007228340022265911, -0.08759848028421402, 0.054519735276699066, 0.04823336750268936, 0.008684474974870682, 0.06471852213144302, -0.007902582176029682, 0.0018915541004389524, 0.048591382801532745, 0.020042186602950096, 0.0002190974191762507, -0.07503709942102432, 0.02108464203774929, -0.011800744570791721, -0.011267724446952343, 0.027272678911685944, -4.136737271276407e-33, 0.007010954432189465, -0.05910605192184448, -0.07389697432518005, 0.0259611364454031, 0.10151385515928268, -0.0004357221187092364, 0.034110404551029205, 0.05724382400512695, -0.0411563403904438, 0.06173403561115265, -0.024884402751922607, 0.0022678282111883163, 0.10341326892375946, -0.0032706838101148605, -0.018590528517961502, 0.06298719346523285, -0.05873189866542816, 0.02414703369140625, -0.018344931304454803, 0.09734597057104111, 0.015043189749121666, -0.09496478736400604, -0.02848399430513382, 0.05921412259340286, 0.034951742738485336, 0.008797742426395416, -0.07459893077611923, -0.007016103249043226, -0.021187743172049522, 0.07747270166873932, -0.01904396340250969, 0.054929789155721664, -0.04962175711989403, 0.0866093635559082, -0.06824222207069397, -0.07034829258918762, 0.00717638386413455, -0.011390400119125843, -0.02485969476401806, 0.013860974460840225, -0.006082944571971893, -0.012992116622626781, 0.03936569765210152, -0.007419839967042208, -0.10531298816204071, 0.04063631594181061, 0.05305357649922371, 0.0425298698246479, -0.017954763025045395, -0.09551414847373962, 0.022198131307959557, 0.06141471117734909, 0.0971565693616867, 0.07638324797153473, 0.032639168202877045, 0.0806366428732872, -0.05068522319197655, -0.0021139199379831553, -0.04837974160909653, -0.020147152245044708, -0.038442399352788925, -0.04034864902496338, 0.06787020713090897, -0.025714527815580368, 0.030096014961600304, 0.05041782557964325, 0.042332425713539124, 0.05856478959321976, 0.01578598842024803, -0.01710355654358864, -0.05826391279697418, -0.047445908188819885, -0.08993229269981384, -0.014026208780705929, -0.05595690384507179, 0.036086466163396835, -0.012603619135916233, 0.03656098246574402, 0.02818235754966736, -0.017318952828645706, 0.011442665942013264, 0.022173747420310974, 0.0046693794429302216, -0.03095986135303974, 0.005203144624829292, 0.031623147428035736, 0.022859154269099236, -0.1026255413889885, 0.03815775737166405, -0.0665566623210907, -0.08485350012779236, 0.029288047924637794, -0.018249977380037308, 0.049006883054971695, 0.006589123047888279, 5.248216697678408e-32, -0.01160429511219263, 0.016098475083708763, 0.07303138077259064, -0.004058093298226595, 0.03671340271830559, -0.05320731922984123, 0.027824003249406815, 0.01681925170123577, -0.042949873954057693, -0.009423725306987762, 0.01831343211233616, -0.046986449509859085, -0.0357951857149601, -0.03566630184650421, 0.044237952679395676, 0.08822951465845108, 0.0819585844874382, 0.04028787091374397, -0.014799077995121479, -0.03370964154601097, 0.017849544063210487, 0.05167295038700104, 0.002616486046463251, -0.05241382122039795, -0.0634058266878128, 0.019159067422151566, -0.023355795070528984, 0.0008362509543076158, 0.0799652561545372, -0.0647510215640068, -0.02274773269891739, -0.015654681250452995, 0.03438137471675873, -0.09670526534318924, 0.13080202043056488, -0.03219631314277649, 0.00951060838997364, -0.038957834243774414, -0.09436792135238647, 0.028981834650039673, 0.09302268177270889, 0.03279649093747139, 0.04384804517030716, -0.012075008824467659, -0.0026137602981179953, -0.04260978847742081, -0.043783221393823624, 0.0654960572719574, 0.05488508939743042, 0.016337139531970024, 0.05898269638419151, 0.01907149888575077, -0.010773739777505398, -0.006398255471140146, -0.016176756471395493, 0.06898389756679535, 0.02086169272661209, -0.09094126522541046, 0.001208911300636828, 0.08621978759765625, 0.04433921352028847, -0.018764562904834747, -0.012598860077559948, -0.02553441934287548]))\n"
     ]
    }
   ],
   "source": [
    "with connection.cursor() as cursor:\n",
    "    # Define the query to select all rows from a table\n",
    "    query = f\"SELECT * FROM {table_name}\"\n",
    "\n",
    "    # Execute the query\n",
    "    cursor.execute(query)\n",
    "\n",
    "    # Fetch all rows\n",
    "    rows = cursor.fetchall()\n",
    "\n",
    "    # Print the rows\n",
    "    for row in rows[:5]:\n",
    "        print(row)"
   ]
  },
  {
   "cell_type": "markdown",
   "metadata": {},
   "source": [
    "At this point, our database contains all our knowledge base, so we are ready to proceed to the next step, basing it on users' questions."
   ]
  },
  {
   "cell_type": "markdown",
   "metadata": {},
   "source": [
    "## Vector retrieval and Large Language Model generation\n",
    "\n",
    "This section guides you through the steps to integrate the vector database (Oracle Database 23ai in our case) and retrieve a list of text chunks that are close to the \"question\" in vector space. Then, we will use the most relevant text chunks to create an LLM prompt and ask the GenAI service to create a nicely worded response for us.\n",
    "\n",
    "This is a classical Retrieval-Augmented Generation (RAG) approach. The Retrieval-Augmented Generation architecture combines retrieval-based and generation-based methods to enhance natural language processing tasks. It consists of a retriever, which searches a knowledge base for relevant documents, and a generator, which uses these documents to produce informed responses. This dual approach improves accuracy and detail compared to models relying solely on pre-trained knowledge.\n",
    "\n",
    "The retriever finds the most pertinent documents by embedding both queries and documents into the same vector space. This ensures that the top-N relevant documents are selected to provide additional context for the generator. By doing so, the retriever enhances the quality of the generated text, particularly for queries needing specific or up-to-date information.\n",
    "\n",
    "The generator integrates the retrieved documents into its response generation. It may concatenate the query with the retrieved texts or use attention mechanisms to focus on relevant parts, producing coherent and contextually rich responses. This combination allows RAG to handle diverse tasks, making it a versatile tool in natural language processing."
   ]
  },
  {
   "cell_type": "markdown",
   "metadata": {},
   "source": [
    "### Vectorize the \"question\"\n",
    "\n",
    "In this step, we will take a text, supposedly the question the user is asking to the bot, and transform it into a vector. We will then feed this vector to the database, where it will be used to retrieve similar vectors and associated metadata, which are stored in the database."
   ]
  },
  {
   "cell_type": "markdown",
   "metadata": {},
   "source": [
    "Let's define the SQL script used to retrieve the chunks"
   ]
  },
  {
   "cell_type": "code",
   "execution_count": 10,
   "metadata": {},
   "outputs": [],
   "source": [
    "topK = 3\n",
    "\n",
    "sql = f\"\"\"select payload, vector_distance(vector, :vector, COSINE) as score\n",
    "from {table_name}\n",
    "order by score\n",
    "fetch approx first {topK} rows only\"\"\""
   ]
  },
  {
   "cell_type": "markdown",
   "metadata": {},
   "source": [
    "In the given SQL query, topK represents the number of top results to retrieve. The query selects the payload column along with the cosine distance between the vector column in the specified table (table_name) and a provided vector parameter :vector, aliasing the distance calculation as score.\n",
    "\n",
    "By ordering the results by the calculated score and using fetch approx first {topK} rows only, the query efficiently retrieves only the top topK results based on their cosine similarity to the provided vector."
   ]
  },
  {
   "cell_type": "markdown",
   "metadata": {},
   "source": [
    "We transform the question into a vector. "
   ]
  },
  {
   "cell_type": "code",
   "execution_count": 11,
   "metadata": {},
   "outputs": [],
   "source": [
    "question = 'What is Always Free?'"
   ]
  },
  {
   "cell_type": "markdown",
   "metadata": {},
   "source": [
    "We employ the same encoder as in previous text chunks, generating a vector representation of the question."
   ]
  },
  {
   "cell_type": "code",
   "execution_count": 12,
   "metadata": {},
   "outputs": [],
   "source": [
    "with connection.cursor() as cursor:\n",
    "  embedding = list(encoder.encode(question))\n",
    "  vector = array.array(\"f\", embedding)\n",
    "\n",
    "  results  = []\n",
    "\n",
    "  for (info, score, ) in cursor.execute(sql, vector=vector):\n",
    "      text_content = info.read()\n",
    "      results.append((score, json.loads(text_content)))"
   ]
  },
  {
   "cell_type": "markdown",
   "metadata": {},
   "source": [
    "The SQL query is executed with the provided vector parameter, fetching relevant information from the database. For each result, the code retrieves the text content, stored in JSON format, and appends it to a list along with the calculated similarity score. This process iterates through all fetched results, accumulating them in the results list.\n",
    "\n",
    "If we print the results, we obtain something like the following. As requested, we have the \"score\" of each hit, which is essentially the distance in vector space between the question and the text chunk, as well as the metadata JSON embedded in each chunk.\n",
    "\n"
   ]
  },
  {
   "cell_type": "code",
   "execution_count": 13,
   "metadata": {},
   "outputs": [
    {
     "name": "stdout",
     "output_type": "stream",
     "text": [
      "[(0.3420591950416565,\n",
      "  {'text': 'faq | What are Always Free services?\\n'\n",
      "           '\\n'\n",
      "           'Always Free services are part of Oracle Cloud Free Tier. Always '\n",
      "           'Free services are available for an unlimited time. Some '\n",
      "           'limitations apply. As new Always Free services become available, '\n",
      "           'you will automatically be able to use those as well.\\n'\n",
      "           '\\n'\n",
      "           'The following services are available as Always Free:\\n'\n",
      "           '\\n'\n",
      "           'AMD-based Compute\\n'\n",
      "           'Arm-based Ampere A1 Compute\\n'\n",
      "           'Block Volume\\n'\n",
      "           'Object Storage\\n'\n",
      "           'Archive Storage\\n'\n",
      "           'Flexible Load Balancer\\n'\n",
      "           'Flexible Network Load Balancer\\n'\n",
      "           'VPN Connect\\n'\n",
      "           'Autonomous Data Warehouse\\n'\n",
      "           'Autonomous Transaction Processing\\n'\n",
      "           'Autonomous JSON Database\\n'\n",
      "           'NoSQL Database (Phoenix Region only)\\n'\n",
      "           'APEX Application Development\\n'\n",
      "           'Resource Manager (Terraform)\\n'\n",
      "           'Monitoring\\n'\n",
      "           'Notifications\\n'\n",
      "           'Logging\\n'\n",
      "           'Application Performance Monitoring\\n'\n",
      "           'Service Connector Hub\\n'\n",
      "           'Vault\\n'\n",
      "           'Bastions\\n'\n",
      "           'Security Advisor\\n'\n",
      "           'Virtual Cloud Networks\\n'\n",
      "           'Site-to-Site VPN\\n'\n",
      "           'Content Management Starter Edition\\n'\n",
      "           'Email Delivery',\n",
      "   'path': 'faq'}),\n",
      " (0.4832669496536255,\n",
      "  {'text': 'faq | Are Always Free services available for paid accounts?\\n'\n",
      "           '\\n'\n",
      "           'Yes, for paid accounts using universal credit pricing.',\n",
      "   'path': 'faq'}),\n",
      " (0.4878004789352417,\n",
      "  {'text': 'faq | Could you elaborate on the concept of Always Free resources '\n",
      "           'in Oracle Cloud Infrastructure, and how can users leverage them '\n",
      "           'for various use cases while staying within the specified '\n",
      "           'limitations?\\n'\n",
      "           '\\n'\n",
      "           'Always Free resources in Oracle Cloud Infrastructure are services '\n",
      "           'and resources that can be used without incurring charges, subject '\n",
      "           'to certain usage limitations. Users can leverage these resources '\n",
      "           'for development, testing, small-scale applications, and learning '\n",
      "           'purposes, all while adhering to the restrictions outlined in the '\n",
      "           'terms and conditions.',\n",
      "   'path': 'faq'})]\n"
     ]
    }
   ],
   "source": [
    "import pprint\n",
    "pprint.pp(results)"
   ]
  },
  {
   "cell_type": "markdown",
   "metadata": {},
   "source": [
    "### Create the LLM prompt\n",
    "\n",
    "In a Retrieval-Augmented Generation (RAG) application, the prompt given to a Large Language Model (LLM) is crucial for ensuring that the model generates accurate and contextually relevant responses. It effectively integrates retrieved information with the query, clarifies user intent, and frames the context in which the LLM operates. A well-crafted prompt enhances the relevance and accuracy of the generated text by providing clear instructions and integrating various aspects of the retrieved data. This is essential for optimizing performance, handling complex queries, and delivering precise and user-satisfactory outputs in real-time applications."
   ]
  },
  {
   "cell_type": "markdown",
   "metadata": {},
   "source": [
    "Before sending anything to the LLM, we must ensure that our prompt does not exceed the maximum context length of the model. We are planning to use LLaMA 2, so the context is limited to 4,096 tokens. Note that the context is used for both the input tokens (the prompt) and the response."
   ]
  },
  {
   "cell_type": "code",
   "execution_count": 14,
   "metadata": {},
   "outputs": [
    {
     "name": "stderr",
     "output_type": "stream",
     "text": [
      "You are using the default legacy behaviour of the <class 'transformers.models.llama.tokenization_llama_fast.LlamaTokenizerFast'>. This is expected, and simply means that the `legacy` (previous) behavior will be used so nothing changes for you. If you want to use the new behaviour, set `legacy=False`. This should only be set if you understand what it means, and thoroughly read the reason why this was added as explained in https://github.com/huggingface/transformers/pull/24565 - if you loaded a llama tokenizer from a GGUF file you can ignore this message.\n"
     ]
    }
   ],
   "source": [
    "from transformers import LlamaTokenizerFast\n",
    "import sys\n",
    "\n",
    "tokenizer = LlamaTokenizerFast.from_pretrained(\"hf-internal-testing/llama-tokenizer\")\n",
    "\n",
    "\n",
    "tokenizer.model_max_length = sys.maxsize\n",
    "\n",
    "def truncate_string(string, max_tokens):\n",
    "    # Tokenize the text and count the tokens\n",
    "    tokens = tokenizer.encode(string, add_special_tokens=True) \n",
    "    # Truncate the tokens to a maximum length\n",
    "    truncated_tokens = tokens[:max_tokens]\n",
    "    # transform the tokens back to text\n",
    "    truncated_text = tokenizer.decode(truncated_tokens)\n",
    "    return truncated_text"
   ]
  },
  {
   "cell_type": "markdown",
   "metadata": {},
   "source": [
    "This code leverages the Hugging Face Transformers library to tokenize text using the LlamaTokenizerFast model. The tokenizer is initialized from the pre-trained hf-internal-testing/llama-tokenizer model, and its `model_max_length` attribute is set to `sys.maxsize` to handle extremely large inputs without length constraints.\n",
    "\n",
    "The `truncate_string` function takes a string and a maximum token count as inputs. It tokenizes the input string, truncates the tokenized sequence to the specified maximum length, and then decodes the truncated tokens back into a string. This function effectively shortens the text to a specified token limit while preserving its readable format, useful for tasks requiring length constraints on input text.\n",
    "\n",
    "We will truncate our chunks to 1000 tokens, to leave plenty of space for the rest of the prompt and the answer."
   ]
  },
  {
   "cell_type": "code",
   "execution_count": 15,
   "metadata": {},
   "outputs": [],
   "source": [
    "# transform docs into a string array using the \"paylod\" key\n",
    "docs_as_one_string = \"\\n=========\\n\".join([doc[\"text\"] for doc in docs])\n",
    "docs_truncated = truncate_string(docs_as_one_string, 1000)"
   ]
  },
  {
   "cell_type": "markdown",
   "metadata": {},
   "source": [
    "In our case, the prompt will include the retrieved top chunks, the question posed by the user, and the custom instructions."
   ]
  },
  {
   "cell_type": "code",
   "execution_count": 16,
   "metadata": {},
   "outputs": [],
   "source": [
    "prompt = f\"\"\"\\\n",
    "    Respond to PRECISELY to this question: \"{question}.\",  USING ONLY the following information and IGNORING ANY PREVIOUS KNOWLEDGE.\n",
    "    =====\n",
    "    Sources: {docs_truncated}\n",
    "    =====\n",
    "    Answer (Three paragraphs, maximum 50 words each, 90% spartan):\n",
    "    \"\"\""
   ]
  },
  {
   "cell_type": "markdown",
   "metadata": {},
   "source": [
    "### Call the Generative AI Service LLM"
   ]
  },
  {
   "cell_type": "markdown",
   "metadata": {},
   "source": [
    "First, log in to Google Cloud using the right credentials.\n",
    "\n",
    "```\n",
    "pip install --upgrade google-cloud-aiplatform\n",
    "gcloud auth application-default login\n",
    "```"
   ]
  },
  {
   "cell_type": "code",
   "execution_count": 17,
   "metadata": {},
   "outputs": [],
   "source": [
    "import vertexai\n",
    "from vertexai.generative_models import GenerativeModel, SafetySetting, Part"
   ]
  },
  {
   "cell_type": "markdown",
   "metadata": {},
   "source": [
    "Here are the general parameters we want for our LLM calls. Feel free to adjust them as needed."
   ]
  },
  {
   "cell_type": "code",
   "execution_count": 18,
   "metadata": {},
   "outputs": [],
   "source": [
    "generation_config = {\n",
    "    \"max_output_tokens\": 8192,\n",
    "    \"temperature\": 1,\n",
    "    \"top_p\": 0.95,\n",
    "}\n",
    "\n",
    "safety_settings = [\n",
    "    SafetySetting(\n",
    "        category=SafetySetting.HarmCategory.HARM_CATEGORY_HATE_SPEECH,\n",
    "        threshold=SafetySetting.HarmBlockThreshold.OFF\n",
    "    ),\n",
    "    SafetySetting(\n",
    "        category=SafetySetting.HarmCategory.HARM_CATEGORY_DANGEROUS_CONTENT,\n",
    "        threshold=SafetySetting.HarmBlockThreshold.OFF\n",
    "    ),\n",
    "    SafetySetting(\n",
    "        category=SafetySetting.HarmCategory.HARM_CATEGORY_SEXUALLY_EXPLICIT,\n",
    "        threshold=SafetySetting.HarmBlockThreshold.OFF\n",
    "    ),\n",
    "    SafetySetting(\n",
    "        category=SafetySetting.HarmCategory.HARM_CATEGORY_HARASSMENT,\n",
    "        threshold=SafetySetting.HarmBlockThreshold.OFF\n",
    "    ),\n",
    "]"
   ]
  },
  {
   "cell_type": "markdown",
   "metadata": {},
   "source": [
    "When we initialize the model, an important part is the system prompt, as you can see below. Strongly instructing it to ignore previous knowledge (acquired during the initial training of the model) is very important if we want it to first look at our text chunks."
   ]
  },
  {
   "cell_type": "code",
   "execution_count": 19,
   "metadata": {},
   "outputs": [],
   "source": [
    "vertexai.init(project=\"directed-racer-440911-k0\", location=\"europe-central2\")\n",
    "model = GenerativeModel(\n",
    "    \"gemini-1.5-flash-002\",\n",
    "    system_instruction=[\"\"\"\n",
    "    You are a helpful assistant named Oracle chatbot. \n",
    "    USE ONLY the sources below and ABSOLUTELY IGNORE any previous knowledge.\n",
    "    Use Markdown if appropriate.\n",
    "    Assume the customer is highly technical.     \n",
    "    Include code snippets and commands where necessary.\n",
    "    NEVER mention the sources, always respond as if you have that knowledge yourself. Do NOT provide warnings or disclaimers.          \n",
    "    \"\"\"]\n",
    ")\n",
    "chat = model.start_chat()"
   ]
  },
  {
   "cell_type": "markdown",
   "metadata": {},
   "source": [
    "And now, let's call the model with our prompt."
   ]
  },
  {
   "cell_type": "code",
   "execution_count": 20,
   "metadata": {},
   "outputs": [
    {
     "data": {
      "text/plain": [
       "candidates {\n",
       "  content {\n",
       "    role: \"model\"\n",
       "    parts {\n",
       "      text: \"Always Free services are a component of the Oracle Cloud Free Tier, offering unlimited access to specific services.  These include AMD-based and Arm-based compute instances, block and object storage, and archive storage.  Further Always Free services may be added automatically.\\n\\n\\nLimitations apply to Always Free services.  Unlike the Free Trial\\'s $300 credit,  Always Free services have no time limit. However, Always Free users don\\'t receive SLAs or Oracle Support.\\n\\n\\nCommunity forums offer support for all users.  To access Oracle Support and SLAs, upgrade to a paid account after consuming Free Trial credits or when the trial expires.\\n\"\n",
       "    }\n",
       "  }\n",
       "  finish_reason: STOP\n",
       "  avg_logprobs: -0.3260646877866803\n",
       "}\n",
       "usage_metadata {\n",
       "  prompt_token_count: 1042\n",
       "  candidates_token_count: 132\n",
       "  total_token_count: 1174\n",
       "}\n",
       "model_version: \"gemini-1.5-flash-002\""
      ]
     },
     "execution_count": 20,
     "metadata": {},
     "output_type": "execute_result"
    }
   ],
   "source": [
    "r = chat.send_message(\n",
    "    prompt,\n",
    "    generation_config=generation_config,\n",
    "    safety_settings=safety_settings\n",
    ")\n",
    "\n",
    "r"
   ]
  },
  {
   "cell_type": "markdown",
   "metadata": {},
   "source": [
    "As you can see, we have a nice answer, based on our small knowledge base, coming from the LLM."
   ]
  },
  {
   "cell_type": "code",
   "execution_count": 21,
   "metadata": {},
   "outputs": [
    {
     "name": "stdout",
     "output_type": "stream",
     "text": [
      "('Always Free services are a component of the Oracle Cloud Free Tier, offering unlimited access to specific services.  These include AMD-based and '\n",
      " 'Arm-based compute instances, block and object storage, and archive storage.  Further Always Free services may be added automatically.\\n'\n",
      " '\\n'\n",
      " '\\n'\n",
      " \"Limitations apply to Always Free services.  Unlike the Free Trial's $300 credit,  Always Free services have no time limit. However, Always Free \"\n",
      " \"users don't receive SLAs or Oracle Support.\\n\"\n",
      " '\\n'\n",
      " '\\n'\n",
      " 'Community forums offer support for all users.  To access Oracle Support and SLAs, upgrade to a paid account after consuming Free Trial credits or '\n",
      " 'when the trial expires.\\n')\n"
     ]
    }
   ],
   "source": [
    "pprint.pp(r.candidates[0].content.parts[0].text, width=150)"
   ]
  }
 ],
 "metadata": {
  "kernelspec": {
   "display_name": "3.12.7",
   "language": "python",
   "name": "python3"
  },
  "language_info": {
   "codemirror_mode": {
    "name": "ipython",
    "version": 3
   },
   "file_extension": ".py",
   "mimetype": "text/x-python",
   "name": "python",
   "nbconvert_exporter": "python",
   "pygments_lexer": "ipython3",
   "version": "3.12.7"
  }
 },
 "nbformat": 4,
 "nbformat_minor": 2
}
